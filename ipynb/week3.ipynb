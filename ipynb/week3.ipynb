{
 "cells": [
  {
   "cell_type": "code",
   "execution_count": 97,
   "metadata": {},
   "outputs": [
    {
     "name": "stdout",
     "output_type": "stream",
     "text": [
      "3\n"
     ]
    }
   ],
   "source": [
    "def f(x):\n",
    "    value = 2*x+1 # one tab\n",
    "    return value\n",
    "\n",
    "result = f(1) # pass 3 to bind with result\n",
    "print(result)"
   ]
  },
  {
   "cell_type": "code",
   "execution_count": 96,
   "metadata": {},
   "outputs": [
    {
     "name": "stdout",
     "output_type": "stream",
     "text": [
      "None\n"
     ]
    }
   ],
   "source": [
    "def f(x):\n",
    "    value = 2*x+1 # one tab\n",
    "\n",
    "result = f(1) # pass 3 to bind with result\n",
    "print(result)"
   ]
  },
  {
   "cell_type": "markdown",
   "metadata": {},
   "source": [
    "# change under the hood"
   ]
  },
  {
   "cell_type": "code",
   "execution_count": 95,
   "metadata": {},
   "outputs": [],
   "source": [
    "def changeFirstToZero(x):\n",
    "    x[0]=0"
   ]
  },
  {
   "cell_type": "code",
   "execution_count": 42,
   "metadata": {},
   "outputs": [
    {
     "data": {
      "text/plain": [
       "[0, 1, 4]"
      ]
     },
     "execution_count": 42,
     "metadata": {},
     "output_type": "execute_result"
    }
   ],
   "source": [
    "xx=[-3, 1, 4]\n",
    "changeFirstToZero(xx) # x = xx\n",
    "\n",
    "xx"
   ]
  },
  {
   "cell_type": "code",
   "execution_count": 46,
   "metadata": {},
   "outputs": [
    {
     "data": {
      "text/plain": [
       "2"
      ]
     },
     "execution_count": 46,
     "metadata": {},
     "output_type": "execute_result"
    }
   ],
   "source": [
    "# Lambda Function\n",
    "f=lambda x:x+1\n",
    "f(1)"
   ]
  },
  {
   "cell_type": "code",
   "execution_count": 47,
   "metadata": {},
   "outputs": [
    {
     "data": {
      "text/plain": [
       "3"
      ]
     },
     "execution_count": 47,
     "metadata": {},
     "output_type": "execute_result"
    }
   ],
   "source": [
    "# Lambda Function\n",
    "f=lambda x,y:x+y\n",
    "f(1,2) "
   ]
  },
  {
   "cell_type": "code",
   "execution_count": 52,
   "metadata": {},
   "outputs": [],
   "source": [
    "consumer = {\n",
    "    'name': 'John Doe',\n",
    "    'age': 30,\n",
    "    'preference': lambda x,y: x**0.8*y**0.2\n",
    "}"
   ]
  },
  {
   "cell_type": "code",
   "execution_count": 58,
   "metadata": {},
   "outputs": [
    {
     "data": {
      "text/plain": [
       "(1.624504792712471, 5.428814526898253)"
      ]
     },
     "execution_count": 58,
     "metadata": {},
     "output_type": "execute_result"
    }
   ],
   "source": [
    "\n",
    "def Cobb_Douglas(alpha):\n",
    "    def cd(x, y):\n",
    "        return x**alpha*y**(1-alpha)\n",
    "    return cd\n",
    "# Cobb-Douglas constructor\n",
    "cd = Cobb_Douglas(0.3)\n",
    "\n",
    "cd(1, 2), cd(3,7)"
   ]
  },
  {
   "cell_type": "code",
   "execution_count": 43,
   "metadata": {},
   "outputs": [
    {
     "data": {
      "text/plain": [
       "12.01944966047974"
      ]
     },
     "execution_count": 43,
     "metadata": {},
     "output_type": "execute_result"
    }
   ],
   "source": [
    "def CESutilityfunction(sigma, alpha):\n",
    "    def CES(x,y):\n",
    "        return (alpha*x**(-sigma)+(1-alpha)*y**\n",
    "(-sigma))**(-1/sigma)\n",
    "    return CES\n",
    "\n",
    "CES=CESutilityfunction(0.5, 0.7)\n",
    "CES(10,20)"
   ]
  },
  {
   "cell_type": "code",
   "execution_count": 88,
   "metadata": {},
   "outputs": [
    {
     "data": {
      "text/plain": [
       "12.01944966047974"
      ]
     },
     "execution_count": 88,
     "metadata": {},
     "output_type": "execute_result"
    }
   ],
   "source": [
    "class CES:\n",
    "    def __init__(self, sigma, alpha):\n",
    "        self.sigma=sigma\n",
    "        self.alpha=alpha\n",
    "    def utility(self, x, y):\n",
    "        return (self.alpha*x**(-self.sigma)+(1-self.alpha)*y**(-self.sigma))**(-1/self.sigma)\n",
    "    \n",
    "ces=CES(0.5, 0.7)\n",
    "ces.utility(10, 20)"
   ]
  },
  {
   "cell_type": "code",
   "execution_count": 1,
   "metadata": {},
   "outputs": [
    {
     "data": {
      "text/plain": [
       "0.8991563831562721"
      ]
     },
     "execution_count": 1,
     "metadata": {},
     "output_type": "execute_result"
    }
   ],
   "source": [
    "import numpy as np\n",
    "\n",
    "x = np.array([1, 2, 3])\n",
    "sigma = 0.5\n",
    "alpha = 0.7, 0.2, 0.1\n",
    "\n",
    "x**(-sigma)*alpha # ** and * are elementwise operations\n",
    "sum(x**(-sigma)*alpha)"
   ]
  },
  {
   "cell_type": "code",
   "execution_count": 4,
   "metadata": {},
   "outputs": [
    {
     "data": {
      "text/plain": [
       "0.8991563831562721"
      ]
     },
     "execution_count": 4,
     "metadata": {},
     "output_type": "execute_result"
    }
   ],
   "source": [
    "import numpy as np\n",
    "\n",
    "x = np.array([1, 2, 3])\n",
    "sigma = 0.5\n",
    "alpha = 0.7, 0.2, 0.1\n",
    "\n",
    "result=x**(-sigma)*alpha # ** and * are elementwise operations\n",
    "result.sum()"
   ]
  },
  {
   "cell_type": "code",
   "execution_count": 3,
   "metadata": {},
   "outputs": [
    {
     "data": {
      "text/plain": [
       "0.8991563831562721"
      ]
     },
     "execution_count": 3,
     "metadata": {},
     "output_type": "execute_result"
    }
   ],
   "source": [
    "import numpy as np\n",
    "class CESingeneral:\n",
    "    def __init__(self, sigma, alpha):\n",
    "        self.sigma=sigma\n",
    "        self.alpha=alpha\n",
    "    def utility(self, x):\n",
    "        result=self.alpha*x**(-sigma)\n",
    "        return result.sum()\n",
    "\n",
    "sigma=0.5\n",
    "alpha=np.array([0.7, 0.2, 0.1])\n",
    "cesg=CESingeneral(sigma,alpha)\n",
    "x=np.array([1,2,3])\n",
    "cesg.utility(x)"
   ]
  },
  {
   "cell_type": "code",
   "execution_count": 93,
   "metadata": {},
   "outputs": [
    {
     "name": "stdout",
     "output_type": "stream",
     "text": [
      "[1 4 9]\n",
      "14\n"
     ]
    }
   ],
   "source": [
    "import numpy as np\n",
    "x=np.array([1,2,3])\n",
    "y=np.array([1,2,3])\n",
    "\n",
    "result=x*y\n",
    "print(result)\n",
    "sum=result.sum()\n",
    "print(sum)"
   ]
  },
  {
   "cell_type": "code",
   "execution_count": 3,
   "metadata": {},
   "outputs": [
    {
     "data": {
      "text/plain": [
       "(2.0000009999243673, 4.000010000027032)"
      ]
     },
     "execution_count": 3,
     "metadata": {},
     "output_type": "execute_result"
    }
   ],
   "source": [
    "# Derivative constructor\n",
    "def derivative(f, x, h=0.00001):\n",
    "    return (f(x+h)-f(x))/h\n",
    "def f(x):\n",
    "    return x**2\n",
    "\n",
    "derivative(f, 1, 1e-6), derivative(f,2)"
   ]
  },
  {
   "cell_type": "code",
   "execution_count": 4,
   "metadata": {},
   "outputs": [
    {
     "data": {
      "text/plain": [
       "(2.00001000001393, 4.000010000027032)"
      ]
     },
     "execution_count": 4,
     "metadata": {},
     "output_type": "execute_result"
    }
   ],
   "source": [
    "def Derivative(f):\n",
    "    def df(x, h=0.00001):\n",
    "        return (f(x+h)-f(x))/h\n",
    "    return df\n",
    "df = Derivative(f)\n",
    "df(1, 1e-5), df(2) "
   ]
  },
  {
   "cell_type": "code",
   "execution_count": 20,
   "metadata": {},
   "outputs": [
    {
     "data": {
      "text/plain": [
       "(array([4.000002, 1.      ]), array([32.00002, 64.     ]))"
      ]
     },
     "execution_count": 20,
     "metadata": {},
     "output_type": "execute_result"
    }
   ],
   "source": [
    "# gradient\n",
    "\n",
    "def f(x):\n",
    "    return x[0]**2*x[1]\n",
    "\n",
    "def gradient(f, x, h=0.00001):\n",
    "    x0 = x.copy()\n",
    "    x0[0] += h # += is equivalent to x0[0] = x0[0] + h but more efficient\n",
    "    x1 = x.copy()\n",
    "    x1[1] += h\n",
    "    return np.array([(f(x0)-f(x))/h, (f(x1)-f(x))/h])\n",
    "\n",
    "gradient(f, [1, 2], 1e-6), gradient(f, [8, 2])"
   ]
  },
  {
   "cell_type": "code",
   "execution_count": null,
   "metadata": {},
   "outputs": [],
   "source": []
  },
  {
   "cell_type": "code",
   "execution_count": 94,
   "metadata": {},
   "outputs": [
    {
     "data": {
      "text/plain": [
       "(0.96, 0.1823215567939546)"
      ]
     },
     "execution_count": 94,
     "metadata": {},
     "output_type": "execute_result"
    }
   ],
   "source": [
    "import py.olg2 as olg  \n",
    "ce = olg.consumer_example() \n",
    "\n",
    "ce[\"beta\"], ce[\"u\"](1.2)\n"
   ]
  }
 ],
 "metadata": {
  "kernelspec": {
   "display_name": ".venv",
   "language": "python",
   "name": "python3"
  },
  "language_info": {
   "codemirror_mode": {
    "name": "ipython",
    "version": 3
   },
   "file_extension": ".py",
   "mimetype": "text/x-python",
   "name": "python",
   "nbconvert_exporter": "python",
   "pygments_lexer": "ipython3",
   "version": "3.11.5"
  },
  "orig_nbformat": 4
 },
 "nbformat": 4,
 "nbformat_minor": 2
}
