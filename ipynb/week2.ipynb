{
 "cells": [
  {
   "cell_type": "code",
   "execution_count": 1,
   "metadata": {},
   "outputs": [],
   "source": [
    "from IPython.core.interactiveshell import InteractiveShell\n",
    "InteractiveShell.ast_node_interactivity = \"all\""
   ]
  },
  {
   "cell_type": "code",
   "execution_count": 2,
   "metadata": {},
   "outputs": [],
   "source": [
    "A=2"
   ]
  },
  {
   "cell_type": "code",
   "execution_count": 1,
   "metadata": {},
   "outputs": [],
   "source": [
    "import pandas as pd\n",
    "import os\n",
    "import matplotlib as mpl\n",
    "import numpy as np"
   ]
  },
  {
   "cell_type": "code",
   "execution_count": 6,
   "metadata": {},
   "outputs": [],
   "source": [
    "import numpy as np\n",
    "game={\n",
    "    (\"top\",\"left\"): np.array([2, 4]),\n",
    "    (\"top\",\"right\"): np.array([0, 2]),\n",
    "    (\"bottom\",\"left\"): np.array([4, 2]),\n",
    "    (\"bottom\",\"right\"): np.array([2, 0])\n",
    "}"
   ]
  },
  {
   "cell_type": "code",
   "execution_count": 7,
   "metadata": {},
   "outputs": [
    {
     "data": {
      "text/plain": [
       "array([2, 4])"
      ]
     },
     "execution_count": 7,
     "metadata": {},
     "output_type": "execute_result"
    }
   ],
   "source": [
    "game[(\"top\",\"left\")]"
   ]
  },
  {
   "cell_type": "code",
   "execution_count": 9,
   "metadata": {},
   "outputs": [
    {
     "data": {
      "text/plain": [
       "60"
      ]
     },
     "execution_count": 9,
     "metadata": {},
     "output_type": "execute_result"
    }
   ],
   "source": [
    "class Demand:\n",
    "    def q0(p0,p1):\n",
    "        return 100-10*p0-5*p1\n",
    "    def q1(p0,p1):\n",
    "        return 50-p0-10*p1\n",
    "class Supply:\n",
    "    def q0(p0,p1):\n",
    "        return 10*p0+5*p1\n",
    "    def q1(p0,p1):\n",
    "        return 5*p0+10*p1\n",
    "    \n",
    "Demand.q0(2,4)"
   ]
  },
  {
   "cell_type": "code",
   "execution_count": 2,
   "metadata": {},
   "outputs": [
    {
     "name": "stdout",
     "output_type": "stream",
     "text": [
      "qo_d= 50.05, q1_d= 33.89\n"
     ]
    }
   ],
   "source": [
    "def demand(p_0, p_1):\n",
    "    q0_d = 100 - 10 * p_0 - 5 * p_1\n",
    "    q1_d = 50 - p_0 - 10 * p_1\n",
    "    print(f\"qo_d= {q0_d}, q1_d= {q1_d}\")\n",
    "\n",
    "\n",
    "def supply(p_0, p_1):\n",
    "    q0_s = 10 * p_0 + 5 * p_1\n",
    "    q1_s = 5 * p_0 + 10 * p_1\n",
    "    print(f\"qo_s= {q0_s}, q1_s= {q1_s}\")\n",
    "\n",
    "demand(4.41,1.17)"
   ]
  }
 ],
 "metadata": {
  "kernelspec": {
   "display_name": ".venv",
   "language": "python",
   "name": "python3"
  },
  "language_info": {
   "codemirror_mode": {
    "name": "ipython",
    "version": 3
   },
   "file_extension": ".py",
   "mimetype": "text/x-python",
   "name": "python",
   "nbconvert_exporter": "python",
   "pygments_lexer": "ipython3",
   "version": "3.11.5"
  },
  "orig_nbformat": 4
 },
 "nbformat": 4,
 "nbformat_minor": 2
}
