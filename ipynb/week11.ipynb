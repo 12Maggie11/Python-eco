{
 "cells": [
  {
   "cell_type": "code",
   "execution_count": 3,
   "metadata": {},
   "outputs": [
    {
     "name": "stdout",
     "output_type": "stream",
     "text": [
      "['c:\\\\Users\\\\Maggie\\\\Documents\\\\GitHub\\\\Python-eco\\\\ipynb', 'C:\\\\Users\\\\Maggie\\\\AppData\\\\Local\\\\Programs\\\\Python\\\\Python311\\\\python311.zip', 'C:\\\\Users\\\\Maggie\\\\AppData\\\\Local\\\\Programs\\\\Python\\\\Python311\\\\DLLs', 'C:\\\\Users\\\\Maggie\\\\AppData\\\\Local\\\\Programs\\\\Python\\\\Python311\\\\Lib', 'C:\\\\Users\\\\Maggie\\\\AppData\\\\Local\\\\Programs\\\\Python\\\\Python311', 'c:\\\\Users\\\\Maggie\\\\Documents\\\\GitHub\\\\Python-eco\\\\.venv', '', 'c:\\\\Users\\\\Maggie\\\\Documents\\\\GitHub\\\\Python-eco\\\\.venv\\\\Lib\\\\site-packages', 'C:\\\\Users\\\\Maggie\\\\Documents\\\\GitHub\\\\Python-eco\\\\module', 'c:\\\\Users\\\\Maggie\\\\Documents\\\\GitHub\\\\Python-eco\\\\.venv\\\\Lib\\\\site-packages\\\\win32', 'c:\\\\Users\\\\Maggie\\\\Documents\\\\GitHub\\\\Python-eco\\\\.venv\\\\Lib\\\\site-packages\\\\win32\\\\lib', 'c:\\\\Users\\\\Maggie\\\\Documents\\\\GitHub\\\\Python-eco\\\\.venv\\\\Lib\\\\site-packages\\\\Pythonwin']\n"
     ]
    }
   ],
   "source": [
    "import sys\n",
    "print(sys.path)"
   ]
  },
  {
   "cell_type": "code",
   "execution_count": null,
   "metadata": {},
   "outputs": [],
   "source": []
  },
  {
   "cell_type": "code",
   "execution_count": 4,
   "metadata": {},
   "outputs": [],
   "source": [
    "import gamepymain"
   ]
  },
  {
   "cell_type": "code",
   "execution_count": 5,
   "metadata": {},
   "outputs": [],
   "source": [
    "import site"
   ]
  },
  {
   "cell_type": "code",
   "execution_count": 6,
   "metadata": {},
   "outputs": [
    {
     "data": {
      "text/plain": [
       "['c:\\\\Users\\\\Maggie\\\\Documents\\\\GitHub\\\\Python-eco\\\\.venv',\n",
       " 'c:\\\\Users\\\\Maggie\\\\Documents\\\\GitHub\\\\Python-eco\\\\.venv\\\\Lib\\\\site-packages']"
      ]
     },
     "execution_count": 6,
     "metadata": {},
     "output_type": "execute_result"
    }
   ],
   "source": [
    "site.getsitepackages()"
   ]
  },
  {
   "cell_type": "code",
   "execution_count": 7,
   "metadata": {},
   "outputs": [],
   "source": [
    "from gamepymain.game import Game, Player"
   ]
  },
  {
   "cell_type": "code",
   "execution_count": null,
   "metadata": {},
   "outputs": [],
   "source": [
    "player_names = "
   ]
  },
  {
   "cell_type": "code",
   "execution_count": 2,
   "metadata": {},
   "outputs": [
    {
     "data": {
      "text/plain": [
       "'c:\\\\Users\\\\Maggie\\\\Documents\\\\GitHub\\\\Python-eco\\\\ipynb'"
      ]
     },
     "execution_count": 2,
     "metadata": {},
     "output_type": "execute_result"
    }
   ],
   "source": [
    "import os\n",
    "\n",
    "os.getcwd() # current working directory"
   ]
  },
  {
   "cell_type": "code",
   "execution_count": 2,
   "metadata": {},
   "outputs": [
    {
     "name": "stdout",
     "output_type": "stream",
     "text": [
      "Please visit this URL to authorize this application: https://accounts.google.com/o/oauth2/auth?response_type=code&client_id=5341281298-aavqujjjsqk9pnt8olha0drbe5uc1ptf.apps.googleusercontent.com&redirect_uri=http%3A%2F%2Flocalhost%3A53836%2F&scope=https%3A%2F%2Fwww.googleapis.com%2Fauth%2Fcontacts.readonly&state=r9IL83dIGWADeJOYTmNHYBwwc8XQNe&access_type=offline\n",
      "List 10 connection names\n",
      "<HttpError 403 when requesting https://people.googleapis.com/v1/people/me/connections?pageSize=10&personFields=names%2CemailAddresses&alt=json returned \"People API has not been used in project 5341281298 before or it is disabled. Enable it by visiting https://console.developers.google.com/apis/api/people.googleapis.com/overview?project=5341281298 then retry. If you enabled this API recently, wait a few minutes for the action to propagate to our systems and retry.\". Details: \"[{'@type': 'type.googleapis.com/google.rpc.Help', 'links': [{'description': 'Google developers console API activation', 'url': 'https://console.developers.google.com/apis/api/people.googleapis.com/overview?project=5341281298'}]}, {'@type': 'type.googleapis.com/google.rpc.ErrorInfo', 'reason': 'SERVICE_DISABLED', 'domain': 'googleapis.com', 'metadata': {'consumer': 'projects/5341281298', 'service': 'people.googleapis.com'}}]\">\n"
     ]
    }
   ],
   "source": [
    "import os.path\n",
    "\n",
    "from google.auth.transport.requests import Request\n",
    "from google.oauth2.credentials import Credentials\n",
    "from google_auth_oauthlib.flow import InstalledAppFlow\n",
    "from googleapiclient.discovery import build\n",
    "from googleapiclient.errors import HttpError\n",
    "\n",
    "# If modifying these scopes, delete the file token.json.\n",
    "SCOPES = [\"https://www.googleapis.com/auth/contacts.readonly\"]\n",
    "\n",
    "\n",
    "def main():\n",
    "  \"\"\"Shows basic usage of the People API.\n",
    "  Prints the name of the first 10 connections.\n",
    "  \"\"\"\n",
    "  creds = None\n",
    "  # The file token.json stores the user's access and refresh tokens, and is\n",
    "  # created automatically when the authorization flow completes for the first\n",
    "  # time.\n",
    "  if os.path.exists(\"token.json\"):\n",
    "    creds = Credentials.from_authorized_user_file(\"token.json\", SCOPES)\n",
    "  # If there are no (valid) credentials available, let the user log in.\n",
    "  if not creds or not creds.valid:\n",
    "    if creds and creds.expired and creds.refresh_token:\n",
    "      creds.refresh(Request())\n",
    "    else:\n",
    "      flow = InstalledAppFlow.from_client_secrets_file(\n",
    "          \"credentials.json\", SCOPES\n",
    "      )\n",
    "      creds = flow.run_local_server(port=0)\n",
    "    # Save the credentials for the next run\n",
    "    with open(\"token.json\", \"w\") as token:\n",
    "      token.write(creds.to_json())\n",
    "\n",
    "  try:\n",
    "    service = build(\"people\", \"v1\", credentials=creds)\n",
    "\n",
    "    # Call the People API\n",
    "    print(\"List 10 connection names\")\n",
    "    results = (\n",
    "        service.people()\n",
    "        .connections()\n",
    "        .list(\n",
    "            resourceName=\"people/me\",\n",
    "            pageSize=10,\n",
    "            personFields=\"names,emailAddresses\",\n",
    "        )\n",
    "        .execute()\n",
    "    )\n",
    "    connections = results.get(\"connections\", [])\n",
    "\n",
    "    for person in connections:\n",
    "      names = person.get(\"names\", [])\n",
    "      if names:\n",
    "        name = names[0].get(\"displayName\")\n",
    "        print(name)\n",
    "  except HttpError as err:\n",
    "    print(err)\n",
    "\n",
    "\n",
    "if __name__ == \"__main__\":\n",
    "  main()"
   ]
  },
  {
   "cell_type": "code",
   "execution_count": 263,
   "metadata": {},
   "outputs": [],
   "source": [
    "import numpy as np\n",
    "import random\n",
    "\n",
    "class AR:\n",
    "    def __init__(self, phi, Y0):\n",
    "        self.phi = np.array(phi)\n",
    "        self.Y0 = np.array(Y0)\n",
    "        self.memory = np.array([])\n",
    "        self.YPast = np.array(self.Y0)\n",
    "    def simulate_onePeriod(self, eps):\n",
    "        # Simulate one period of ar process\n",
    "        y_onePeriod_ahead = self.phi@self.YPast + (1-alpha)*eps\n",
    "\n",
    "        # Update YPast\n",
    "        self.YPast = np.append(y_onePeriod_ahead, self.YPast[:-1])\n",
    "\n",
    "        ## append the new element to the memory\n",
    "        self.memory = np.append(self.memory, y_onePeriod_ahead)\n",
    "    def simulate_nPeriods(self, n):\n",
    "        eps = random.choices([0, 0.01], k=n)\n",
    "        for i in range(n):\n",
    "            self.simulate_onePeriod(eps[i])\n",
    "\n",
    "alpha  = 0.33\n",
    "rho = 0.91\n",
    "phi = [alpha + rho, -alpha * rho]\n",
    "ar = AR(phi = phi, Y0=[[0], [0]])"
   ]
  },
  {
   "cell_type": "code",
   "execution_count": 264,
   "metadata": {},
   "outputs": [
    {
     "data": {
      "text/plain": [
       "(array([ 1.24  , -0.3003]),\n",
       " array([[0],\n",
       "        [0]]))"
      ]
     },
     "execution_count": 264,
     "metadata": {},
     "output_type": "execute_result"
    }
   ],
   "source": [
    "ar.phi, ar.YPast"
   ]
  },
  {
   "cell_type": "code",
   "execution_count": 265,
   "metadata": {},
   "outputs": [],
   "source": [
    "ar.simulate_nPeriods(112)"
   ]
  },
  {
   "cell_type": "code",
   "execution_count": 266,
   "metadata": {},
   "outputs": [
    {
     "data": {
      "text/plain": [
       "array([0.        , 0.        , 0.        , 0.        , 0.        ,\n",
       "       0.0067    , 0.015008  , 0.02329791, 0.02438251, 0.02993795,\n",
       "       0.02980099, 0.03466286, 0.04073271, 0.0467993 , 0.0524991 ,\n",
       "       0.05104505, 0.05423039, 0.05191685, 0.04809151, 0.04404284,\n",
       "       0.04687124, 0.05159428, 0.04990147, 0.05308406, 0.05753882,\n",
       "       0.055407  , 0.05142577, 0.05382923, 0.05800509, 0.05576139,\n",
       "       0.0584252 , 0.0624021 , 0.05983352, 0.06215421, 0.06580321,\n",
       "       0.06963108, 0.07328183, 0.06995926, 0.06474295, 0.05927249,\n",
       "       0.05405558, 0.05592939, 0.05981955, 0.05738065, 0.05988819,\n",
       "       0.06372995, 0.06104071, 0.06325238, 0.06680243, 0.06384032,\n",
       "       0.05910123, 0.05411427, 0.0493536 , 0.04494795, 0.04761457,\n",
       "       0.0522442 , 0.05718415, 0.06191941, 0.05960767, 0.05531911,\n",
       "       0.05069552, 0.04625011, 0.04212627, 0.03834767, 0.03490059,\n",
       "       0.03846093, 0.0372109 , 0.0412917 , 0.04672728, 0.05224193,\n",
       "       0.05744779, 0.05554701, 0.05162672, 0.04733636, 0.04989359,\n",
       "       0.04765294, 0.0441066 , 0.04708201, 0.04513647, 0.0485305 ,\n",
       "       0.04662334, 0.04323923, 0.03961566, 0.03613867, 0.03291537,\n",
       "       0.03666262, 0.04227716, 0.0414139 , 0.0453574 , 0.04380658,\n",
       "       0.04739934, 0.05232006, 0.05734285, 0.06209342, 0.06647579,\n",
       "       0.06378332, 0.05912864, 0.05416538, 0.05610874, 0.05330898,\n",
       "       0.04925368, 0.04506587, 0.0410908 , 0.03741931, 0.04076038,\n",
       "       0.04600585, 0.05150691, 0.05005302, 0.04659821, 0.04275086,\n",
       "       0.04571763, 0.05055177])"
      ]
     },
     "execution_count": 266,
     "metadata": {},
     "output_type": "execute_result"
    }
   ],
   "source": [
    "ar.memory"
   ]
  },
  {
   "cell_type": "code",
   "execution_count": 262,
   "metadata": {},
   "outputs": [
    {
     "data": {
      "text/plain": [
       "[<matplotlib.lines.Line2D at 0x2c4f6e3b6d0>]"
      ]
     },
     "execution_count": 262,
     "metadata": {},
     "output_type": "execute_result"
    },
    {
     "data": {
      "image/png": "[encoded data removed]",
      "text/plain": [
       "<Figure size 640x480 with 1 Axes>"
      ]
     },
     "metadata": {},
     "output_type": "display_data"
    }
   ],
   "source": [
    "import matplotlib.pyplot as plt\n",
    "\n",
    "X = ar.memory\n",
    "\n",
    "plt.plot(X, color=\"blue\", linewidth=1.0, linestyle=\"-\")\n"
   ]
  },
  {
   "cell_type": "code",
   "execution_count": 29,
   "metadata": {},
   "outputs": [
    {
     "data": {
      "text/plain": [
       "[0, 0.01, 0, 0, 0, 0, 0, 0, 0, 0]"
      ]
     },
     "execution_count": 29,
     "metadata": {},
     "output_type": "execute_result"
    }
   ],
   "source": [
    "n=10\n",
    "epsilon = random.choices([0, 0.01], k=n)\n",
    "\n",
    "epsilon"
   ]
  },
  {
   "cell_type": "code",
   "execution_count": 288,
   "metadata": {},
   "outputs": [],
   "source": [
    "import random\n",
    "import numpy as np\n",
    "\n",
    "\n",
    "class AR:\n",
    "    def __init__(self, phi, epsilon, Y0):\n",
    "        self.phi = np.array(phi)\n",
    "        self.epsilon = epsilon\n",
    "        self.Y0 = np.array(Y0)\n",
    "        self.memory = np.array([])\n",
    "        self.YPast = np.array(self.Y0)\n",
    "    def simulate_onePeriod(self, eps):\n",
    "        # Simulate one period of ar process\n",
    "        y_onePeriod_ahead = self.phi@self.YPast + (1-alpha)*eps\n",
    "\n",
    "        # Update YPast\n",
    "        self.YPast = np.append(y_onePeriod_ahead, self.YPast[:-1])\n",
    "\n",
    "        ## append the new element to the memory\n",
    "        self.memory = np.append(self.memory, y_onePeriod_ahead)\n",
    "    def simulate_nPeriods(self, n):\n",
    "        eps = self.epsilon(n)\n",
    "        for i in range(n):\n",
    "            self.simulate_onePeriod(eps[i])\n",
    "\n",
    "\n",
    "def Epsilon(mu, sigma):\n",
    "    def draw(size):\n",
    "        return np.random.normal(mu, sigma, size)\n",
    "    return draw\n",
    "    \n",
    "epsilon = Epsilon(0, 0.03)\n",
    "alpha  = 0.301\n",
    "rho = 0.934\n",
    "phi = [alpha + rho, -alpha * rho]\n",
    "ar = AR(phi = phi, epsilon = epsilon, Y0=[[0], [0]])"
   ]
  },
  {
   "cell_type": "code",
   "execution_count": 289,
   "metadata": {},
   "outputs": [
    {
     "data": {
      "text/plain": [
       "(array([ 1.235   , -0.281134]),\n",
       " array([[0],\n",
       "        [0]]))"
      ]
     },
     "execution_count": 289,
     "metadata": {},
     "output_type": "execute_result"
    }
   ],
   "source": [
    "ar.phi, ar.YPast"
   ]
  },
  {
   "cell_type": "code",
   "execution_count": 290,
   "metadata": {},
   "outputs": [],
   "source": [
    "ar.simulate_nPeriods(112)"
   ]
  },
  {
   "cell_type": "code",
   "execution_count": 280,
   "metadata": {},
   "outputs": [
    {
     "data": {
      "text/plain": [
       "array([-0.0370911 , -0.04252587,  0.02503201,  0.01786817,  0.01722061,\n",
       "        0.00653259,  0.01250905,  0.04049217, -0.03263603,  0.01106921,\n",
       "        0.03379155,  0.00812389, -0.01524039, -0.0058089 ,  0.009974  ,\n",
       "        0.01717368, -0.06346837,  0.00192176, -0.00526315, -0.04234476,\n",
       "       -0.00332606,  0.04609372, -0.05260592,  0.001434  , -0.01250189,\n",
       "       -0.00918562, -0.00067326, -0.03750059, -0.00907232,  0.00369191,\n",
       "       -0.01771636,  0.00466844,  0.01469625,  0.0029037 ,  0.01948852,\n",
       "       -0.01419441,  0.06701718,  0.04073115, -0.0489574 , -0.03770181,\n",
       "        0.00957525, -0.01187963,  0.01326068,  0.01409382,  0.0261556 ,\n",
       "        0.01287381, -0.01814439,  0.01942639,  0.0092772 , -0.0020094 ,\n",
       "        0.03049551,  0.00656132, -0.01261367, -0.03767638, -0.012896  ,\n",
       "        0.00586352,  0.0133186 ,  0.00528621, -0.02156527, -0.0266139 ,\n",
       "       -0.03318118, -0.01025754, -0.0018553 , -0.00159206,  0.01122896,\n",
       "        0.03039134,  0.00788102, -0.04382132, -0.00997934, -0.0104739 ,\n",
       "       -0.01609095, -0.00643499,  0.02106379,  0.00849783,  0.0450323 ,\n",
       "        0.03059016, -0.01497687, -0.00107066,  0.0377465 ,  0.00370056,\n",
       "       -0.02806574, -0.01378697,  0.01009979, -0.03907293, -0.00704321,\n",
       "        0.00454459, -0.00923471, -0.00285129, -0.0076703 ,  0.00458296,\n",
       "        0.00111121,  0.03074685, -0.03038586, -0.03928112, -0.03117384,\n",
       "        0.03676024,  0.0107107 ,  0.00991898, -0.09152485, -0.02601166,\n",
       "       -0.01083959,  0.028722  , -0.00333591,  0.00616149,  0.02882465,\n",
       "       -0.01423975,  0.02088134,  0.02336539, -0.03283631, -0.04464308,\n",
       "       -0.00616476, -0.0059724 ])"
      ]
     },
     "execution_count": 280,
     "metadata": {},
     "output_type": "execute_result"
    }
   ],
   "source": [
    "epsilon(112)"
   ]
  },
  {
   "cell_type": "code",
   "execution_count": 291,
   "metadata": {},
   "outputs": [
    {
     "data": {
      "text/plain": [
       "array([ 0.01251124,  0.01024959,  0.01165609,  0.02870307,  0.05966963,\n",
       "        0.07836715,  0.11382218,  0.14131835,  0.1255988 ,  0.11843542,\n",
       "        0.14010443,  0.16546118,  0.18331306,  0.16083461,  0.16482152,\n",
       "        0.17691187,  0.18537531,  0.16528021,  0.13932859,  0.10521866,\n",
       "        0.0769053 ,  0.0307094 ,  0.00160414, -0.01886154, -0.03505796,\n",
       "       -0.04567448, -0.00938783, -0.00877497, -0.05800428, -0.11569037,\n",
       "       -0.13422028, -0.14843261, -0.13877677, -0.12751763, -0.07988021,\n",
       "       -0.11729504, -0.1091079 , -0.10998779, -0.10342293, -0.07506484,\n",
       "       -0.03977749, -0.03432232, -0.02072355, -0.04663736, -0.07300366,\n",
       "       -0.11232294, -0.10725633, -0.13609689, -0.11918337, -0.09726207,\n",
       "       -0.08856976, -0.02492724,  0.0164958 , -0.00227265, -0.02680608,\n",
       "       -0.03968348, -0.0160904 , -0.00702519, -0.02746585, -0.05598827,\n",
       "       -0.04810742, -0.03563949, -0.06584197, -0.0233897 , -0.0154504 ,\n",
       "        0.00352119, -0.00443412,  0.00453888, -0.0237992 , -0.04949854,\n",
       "       -0.06581321, -0.04837951, -0.04428065, -0.04662109,  0.01268475,\n",
       "        0.01882507,  0.03656984,  0.01644412,  0.02233146,  0.0480595 ,\n",
       "        0.0389938 ,  0.05513512,  0.0726081 ,  0.07980079,  0.0283299 ,\n",
       "       -0.00959316, -0.02406506, -0.02874457, -0.02101858, -0.03694769,\n",
       "       -0.00253687,  0.00913671,  0.03257248,  0.0273427 , -0.01539344,\n",
       "       -0.06207699, -0.07171966, -0.0723903 , -0.03429733, -0.00178905,\n",
       "        0.02426972,  0.03180526,  0.0377518 ,  0.02113417, -0.00124133,\n",
       "       -0.02092172, -0.04728537, -0.06076941, -0.0781089 , -0.07222254,\n",
       "       -0.07975442, -0.01606352])"
      ]
     },
     "execution_count": 291,
     "metadata": {},
     "output_type": "execute_result"
    }
   ],
   "source": [
    "ar.memory"
   ]
  },
  {
   "cell_type": "code",
   "execution_count": 292,
   "metadata": {},
   "outputs": [
    {
     "data": {
      "text/plain": [
       "[<matplotlib.lines.Line2D at 0x13b12dce0d0>]"
      ]
     },
     "execution_count": 292,
     "metadata": {},
     "output_type": "execute_result"
    },
    {
     "data": {
      "image/png": "[encoded data removed]",
      "text/plain": [
       "<Figure size 640x480 with 1 Axes>"
      ]
     },
     "metadata": {},
     "output_type": "display_data"
    }
   ],
   "source": [
    "import matplotlib.pyplot as plt\n",
    "\n",
    "X = ar.memory\n",
    "\n",
    "plt.plot(X, color=\"blue\", linewidth=1.0, linestyle=\"-\")"
   ]
  }
 ],
 "metadata": {
  "kernelspec": {
   "display_name": ".venv",
   "language": "python",
   "name": "python3"
  },
  "language_info": {
   "codemirror_mode": {
    "name": "ipython",
    "version": 3
   },
   "file_extension": ".py",
   "mimetype": "text/x-python",
   "name": "python",
   "nbconvert_exporter": "python",
   "pygments_lexer": "ipython3",
   "version": "3.11.5"
  }
 },
 "nbformat": 4,
 "nbformat_minor": 2
}
