{
 "cells": [
  {
   "cell_type": "markdown",
   "metadata": {},
   "source": [
    "# Design a prototype"
   ]
  },
  {
   "cell_type": "code",
   "execution_count": 2,
   "metadata": {},
   "outputs": [],
   "source": [
    "import numpy as np \n",
    "class AR:\n",
    "    def __init__(self, *phi, epsilon, Y0):\n",
    "        self.phi=np.array(phi)\n",
    "        self.epsilon=epsilon\n",
    "        self.Y0=np.array(Y0)\n",
    "        self.memory=np.array([])\n",
    "        self.YPast=np.array(self.Y0)"
   ]
  },
  {
   "cell_type": "markdown",
   "metadata": {},
   "source": [
    "An instance"
   ]
  },
  {
   "cell_type": "code",
   "execution_count": 3,
   "metadata": {},
   "outputs": [],
   "source": [
    "import numpy as np\n",
    "\n",
    "def Epsilon(mu, sigma):\n",
    "    def draw(size):\n",
    "        return np.random.normal(mu, sigma, size)\n",
    "    return draw\n",
    "\n",
    "epsilon=Epsilon(0, 0.4) "
   ]
  },
  {
   "cell_type": "code",
   "execution_count": 7,
   "metadata": {},
   "outputs": [
    {
     "data": {
      "text/plain": [
       "(array([0.43632337]),\n",
       " array([-0.10602412,  0.00938788, -1.11997556, -0.29386045, -0.15305376,\n",
       "         0.34173417, -0.70611284, -0.25917241,  0.01452547, -0.33869137]))"
      ]
     },
     "execution_count": 7,
     "metadata": {},
     "output_type": "execute_result"
    }
   ],
   "source": [
    "epsilon(1), epsilon(10)"
   ]
  },
  {
   "cell_type": "code",
   "execution_count": 8,
   "metadata": {},
   "outputs": [],
   "source": [
    "ar = AR(0.8, -0.35, epsilon=epsilon, Y0=[0,0])"
   ]
  },
  {
   "cell_type": "code",
   "execution_count": 12,
   "metadata": {},
   "outputs": [
    {
     "data": {
      "text/plain": [
       "(array([ 0.8 , -0.35]),\n",
       " array([ 0.10330481,  0.58060874, -1.06616693,  0.08490227,  0.09856198,\n",
       "         0.03261635, -0.26732027,  0.13959167, -0.67900763,  0.52328218]),\n",
       " array([0, 0]),\n",
       " array([0, 0]))"
      ]
     },
     "execution_count": 12,
     "metadata": {},
     "output_type": "execute_result"
    }
   ],
   "source": [
    "# an instance of the basic prototype of a class\n",
    "ar.phi, ar.epsilon(10), ar.Y0, ar.YPast"
   ]
  },
  {
   "cell_type": "markdown",
   "metadata": {},
   "source": [
    "# Packing"
   ]
  },
  {
   "cell_type": "code",
   "execution_count": 13,
   "metadata": {},
   "outputs": [
    {
     "name": "stdout",
     "output_type": "stream",
     "text": [
      "(1, 2, 3)\n",
      "Hi\n"
     ]
    }
   ],
   "source": [
    "# Packing is to pack all non-key-value-pair argument values into a tuple\n",
    "def test(*args, epsilon):\n",
    "    print(args)\n",
    "    print(epsilon)\n",
    "\n",
    "test(1,2,3, epsilon=\"Hi\")"
   ]
  },
  {
   "cell_type": "markdown",
   "metadata": {},
   "source": [
    "Exercise CES and packing"
   ]
  },
  {
   "cell_type": "code",
   "execution_count": 30,
   "metadata": {},
   "outputs": [
    {
     "data": {
      "text/plain": [
       "4.0"
      ]
     },
     "execution_count": 30,
     "metadata": {},
     "output_type": "execute_result"
    }
   ],
   "source": [
    "def CESUtility(*alpha, rho):\n",
    "    def function(*X):\n",
    "        X=np.array(X)\n",
    "        result=alpha*X**rho\n",
    "        return result.sum()**(1/rho)\n",
    "    return function\n",
    "\n",
    "# example 1\n",
    "u = CESUtility(0.3, 0.3, 0.4, rho=2)\n",
    "u(2, 4, 5)"
   ]
  },
  {
   "cell_type": "code",
   "execution_count": 31,
   "metadata": {},
   "outputs": [
    {
     "data": {
      "text/plain": [
       "1.5811388300841898"
      ]
     },
     "execution_count": 31,
     "metadata": {},
     "output_type": "execute_result"
    }
   ],
   "source": [
    "# example 2\n",
    "u2 = CESUtility(0.2, 0.2, 0.3, 0.3, rho=2)\n",
    "u2(1, 2, 2, 1)"
   ]
  },
  {
   "cell_type": "markdown",
   "metadata": {},
   "source": [
    "# Memory"
   ]
  },
  {
   "cell_type": "markdown",
   "metadata": {},
   "source": [
    "ar.simulate_nPeriods(10) will simulate 10 periods of the AR(k) model.\n",
    "\n",
    "Algorithm:\n",
    "\n",
    "0. Given eps = ar.epsilon(1)\n",
    "1. Compute Y_one_step_ahead using ar.phi and ar.YPast, and ar.epsilon.\n",
    "   * ar.phi@ar.YPast + eps\n",
    "2. Update YPast by appending Y_one_step_ahead to YPast front and removing the last element of YPast.\n",
    "3. Update ar.memroy to remember Y_one_step_ahead."
   ]
  },
  {
   "cell_type": "code",
   "execution_count": 34,
   "metadata": {},
   "outputs": [],
   "source": [
    "eps=ar.epsilon(1)\n",
    "\n",
    "# Simulate one period of ar process\n",
    "y_onePeriod_ahead=ar.phi@ar.YPast+eps\n",
    "\n",
    "# Update YPast\n",
    "ar.YPast=np.append(y_onePeriod_ahead, ar.YPast[:-1])\n",
    "\n",
    "# append the new element to the memory\n",
    "ar.memory=np.append(ar.memory, y_onePeriod_ahead)"
   ]
  },
  {
   "cell_type": "code",
   "execution_count": 36,
   "metadata": {},
   "outputs": [
    {
     "data": {
      "text/plain": [
       "array([0.56815207, 0.        ])"
      ]
     },
     "execution_count": 36,
     "metadata": {},
     "output_type": "execute_result"
    }
   ],
   "source": [
    "ar.YPast"
   ]
  },
  {
   "cell_type": "code",
   "execution_count": 7,
   "metadata": {},
   "outputs": [],
   "source": [
    "def simulate_onePeriod(ar, eps):\n",
    "    # Simulate one period of ar process\n",
    "    y_onePeriod_ahead=ar.phi@ar.YPast+eps\n",
    "    \n",
    "    # Update YPast\n",
    "    ar.YPast=np.append(y_onePeriod_ahead, ar.YPast[:-1])\n",
    "\n",
    "    # append the new element to the memory\n",
    "    ar.memory=np.append(ar.memory, y_onePeriod_ahead)"
   ]
  },
  {
   "cell_type": "markdown",
   "metadata": {},
   "source": [
    "Test your helper function"
   ]
  },
  {
   "cell_type": "code",
   "execution_count": 8,
   "metadata": {},
   "outputs": [
    {
     "data": {
      "text/plain": [
       "array([], dtype=float64)"
      ]
     },
     "execution_count": 8,
     "metadata": {},
     "output_type": "execute_result"
    }
   ],
   "source": [
    "ar=AR(0.8,-0.35,epsilon=epsilon,Y0=[0,0])\n",
    "ar.memory"
   ]
  },
  {
   "cell_type": "code",
   "execution_count": 9,
   "metadata": {},
   "outputs": [
    {
     "data": {
      "text/plain": [
       "array([-0.23302462])"
      ]
     },
     "execution_count": 9,
     "metadata": {},
     "output_type": "execute_result"
    }
   ],
   "source": [
    "simulate_onePeriod(ar, ar.epsilon(1))\n",
    "ar.memory"
   ]
  },
  {
   "cell_type": "code",
   "execution_count": 10,
   "metadata": {},
   "outputs": [],
   "source": [
    "# generate n periods of ar process\n",
    "n=10\n",
    "eps=ar.epsilon(n)\n",
    "for i in range(n):\n",
    "    simulate_onePeriod(ar, eps[i])"
   ]
  },
  {
   "cell_type": "code",
   "execution_count": 11,
   "metadata": {},
   "outputs": [
    {
     "data": {
      "text/plain": [
       "array([-0.23302462,  0.018891  ,  0.30617862,  0.99170742,  0.58824097,\n",
       "       -0.36191181,  0.06524614,  0.42434141,  0.62185992,  0.22908233,\n",
       "       -0.03395584])"
      ]
     },
     "execution_count": 11,
     "metadata": {},
     "output_type": "execute_result"
    }
   ],
   "source": [
    "ar.memory"
   ]
  },
  {
   "cell_type": "code",
   "execution_count": 14,
   "metadata": {},
   "outputs": [],
   "source": [
    "import matplotlib.pyplot"
   ]
  },
  {
   "cell_type": "markdown",
   "metadata": {},
   "source": [
    "Helper functions"
   ]
  },
  {
   "cell_type": "code",
   "execution_count": null,
   "metadata": {},
   "outputs": [],
   "source": [
    "def simulate_onePeriod(ar, eps):\n",
    "    # Simulate one period of ar process\n",
    "    y_onePeriod_ahead = ar.phi@ar.YPast + eps\n",
    "\n",
    "    # Update YPast\n",
    "    ar.YPast = np.append(y_onePeriod_ahead, ar.YPast[:-1])\n",
    "\n",
    "    ## append the new element to the memory\n",
    "    ar.memory = np.append(ar.memory, y_onePeriod_ahead)\n",
    "\n",
    "def simulate_nPeriods(ar, n):\n",
    "    eps = ar.epsilon(n)\n",
    "    for i in range(n):\n",
    "        simulate_onePeriod(ar)"
   ]
  },
  {
   "cell_type": "markdown",
   "metadata": {},
   "source": [
    "For loop"
   ]
  },
  {
   "cell_type": "code",
   "execution_count": 16,
   "metadata": {},
   "outputs": [],
   "source": [
    "# Range\n",
    "a = range(10)\n",
    "iter_a=a.__iter__() # obtain the iterator of a"
   ]
  },
  {
   "cell_type": "code",
   "execution_count": 22,
   "metadata": {},
   "outputs": [
    {
     "data": {
      "text/plain": [
       "5"
      ]
     },
     "execution_count": 22,
     "metadata": {},
     "output_type": "execute_result"
    }
   ],
   "source": [
    "iter_a.__next__()"
   ]
  },
  {
   "cell_type": "code",
   "execution_count": 24,
   "metadata": {},
   "outputs": [],
   "source": [
    "# List\n",
    "a=[\"apple\", \"banana\", \"orange\"]\n",
    "iter_a=a.__iter__() # obtain the iterator of a"
   ]
  },
  {
   "cell_type": "code",
   "execution_count": 25,
   "metadata": {},
   "outputs": [
    {
     "data": {
      "text/plain": [
       "'apple'"
      ]
     },
     "execution_count": 25,
     "metadata": {},
     "output_type": "execute_result"
    }
   ],
   "source": [
    "iter_a.__next__()"
   ]
  },
  {
   "cell_type": "code",
   "execution_count": 26,
   "metadata": {},
   "outputs": [
    {
     "name": "stdout",
     "output_type": "stream",
     "text": [
      "apple\n",
      "banana\n",
      "orange\n"
     ]
    }
   ],
   "source": [
    "for i in a:\n",
    "    print(i)"
   ]
  },
  {
   "cell_type": "code",
   "execution_count": 41,
   "metadata": {},
   "outputs": [],
   "source": [
    "# Dictionary\n",
    "a={\"name\":\"John\", \"age\":36, \"country\":\"Norway\"}\n",
    "iter_a=a.__iter__() # obtain the iterator of a"
   ]
  },
  {
   "cell_type": "code",
   "execution_count": 42,
   "metadata": {},
   "outputs": [
    {
     "data": {
      "text/plain": [
       "'name'"
      ]
     },
     "execution_count": 42,
     "metadata": {},
     "output_type": "execute_result"
    }
   ],
   "source": [
    "iter_a.__next__()"
   ]
  },
  {
   "cell_type": "code",
   "execution_count": 47,
   "metadata": {},
   "outputs": [
    {
     "name": "stdout",
     "output_type": "stream",
     "text": [
      "John\n",
      "36\n",
      "Norway\n"
     ]
    }
   ],
   "source": [
    "for key in a:\n",
    "    print(a[key])"
   ]
  },
  {
   "cell_type": "code",
   "execution_count": 50,
   "metadata": {},
   "outputs": [],
   "source": [
    "a_items=a.items()\n",
    "a_items_iter=a_items.__iter__()"
   ]
  },
  {
   "cell_type": "code",
   "execution_count": 51,
   "metadata": {},
   "outputs": [
    {
     "data": {
      "text/plain": [
       "('name', 'John')"
      ]
     },
     "execution_count": 51,
     "metadata": {},
     "output_type": "execute_result"
    }
   ],
   "source": [
    "a_items_iter.__next__()"
   ]
  },
  {
   "cell_type": "code",
   "execution_count": 53,
   "metadata": {},
   "outputs": [
    {
     "name": "stdout",
     "output_type": "stream",
     "text": [
      "name is John\n",
      "age is 36\n",
      "country is Norway\n"
     ]
    }
   ],
   "source": [
    "for key, value in a.items():\n",
    "    print(f'{key} is {value}')"
   ]
  },
  {
   "cell_type": "markdown",
   "metadata": {},
   "source": [
    "unpacking"
   ]
  },
  {
   "cell_type": "code",
   "execution_count": 54,
   "metadata": {},
   "outputs": [
    {
     "name": "stdout",
     "output_type": "stream",
     "text": [
      "name\n",
      "John\n"
     ]
    }
   ],
   "source": [
    "k,v=(\"name\",\"John\")\n",
    "print(k)\n",
    "print(v)"
   ]
  },
  {
   "cell_type": "markdown",
   "metadata": {},
   "source": [
    "Modulize your code"
   ]
  },
  {
   "cell_type": "code",
   "execution_count": 1,
   "metadata": {},
   "outputs": [],
   "source": [
    "# impoer AR module\n",
    "import sys\n",
    "sys.path.append(\"py/AR/univariate.py\")\n",
    "from AR import AR\n",
    "import numpy as np\n",
    "\n",
    "def Epsilon(mu, sigma):\n",
    "    def draw(size):\n",
    "        return np.random.normal(mu,sigma,size)\n",
    "    return draw\n",
    "\n",
    "epsilon = Epsilon(0,0.4)"
   ]
  },
  {
   "cell_type": "code",
   "execution_count": 3,
   "metadata": {},
   "outputs": [
    {
     "data": {
      "text/plain": [
       "('without seed',\n",
       " array([0.50461103]),\n",
       " array([ 0.41589611,  0.43368574, -0.53443847,  0.51794254,  0.35120752,\n",
       "        -0.20817183, -0.07233734, -0.36763952,  0.9234069 ,  1.05237105]))"
      ]
     },
     "execution_count": 3,
     "metadata": {},
     "output_type": "execute_result"
    }
   ],
   "source": [
    "\"without seed\", epsilon(1), epsilon(10)"
   ]
  },
  {
   "cell_type": "code",
   "execution_count": 2,
   "metadata": {},
   "outputs": [
    {
     "data": {
      "text/plain": [
       "('with seed',\n",
       " array([-0.27316285]),\n",
       " array([ 0.2479762 , -0.1758513 , -0.37261468, -0.06035985,  0.09375106,\n",
       "        -0.40309579, -0.29947629, -0.58143623, -0.30846613, -0.2555456 ]))"
      ]
     },
     "execution_count": 2,
     "metadata": {},
     "output_type": "execute_result"
    }
   ],
   "source": [
    "np.random.seed(2384)\n",
    "\"with seed\", epsilon(1), epsilon(10)"
   ]
  },
  {
   "cell_type": "markdown",
   "metadata": {},
   "source": [
    "In most application , you should set seed for reproducible results."
   ]
  },
  {
   "cell_type": "code",
   "execution_count": 3,
   "metadata": {},
   "outputs": [
    {
     "data": {
      "text/plain": [
       "array([ 0.06952085,  0.41455001,  0.22252219,  0.52004695,  0.53057793,\n",
       "        1.77308651,  1.51729585,  0.75829884, -0.33874324, -0.34056626])"
      ]
     },
     "execution_count": 3,
     "metadata": {},
     "output_type": "execute_result"
    }
   ],
   "source": [
    "ar = AR(0.8, -0.35, epsilon=epsilon, Y0=[0,0])\n",
    "\n",
    "# without seed\n",
    "ar.simulate_nPeriods(10)\n",
    "ar.memory"
   ]
  }
 ],
 "metadata": {
  "kernelspec": {
   "display_name": ".venv",
   "language": "python",
   "name": "python3"
  },
  "language_info": {
   "codemirror_mode": {
    "name": "ipython",
    "version": 3
   },
   "file_extension": ".py",
   "mimetype": "text/x-python",
   "name": "python",
   "nbconvert_exporter": "python",
   "pygments_lexer": "ipython3",
   "version": "3.11.5"
  }
 },
 "nbformat": 4,
 "nbformat_minor": 2
}
