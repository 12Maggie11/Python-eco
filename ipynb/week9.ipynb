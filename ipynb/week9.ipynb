{
 "cells": [
  {
   "cell_type": "markdown",
   "metadata": {},
   "source": [
    "Random draw with seed"
   ]
  },
  {
   "cell_type": "code",
   "execution_count": 3,
   "metadata": {},
   "outputs": [],
   "source": [
    "import numpy as np\n",
    "\n",
    "# set seed (在程式最前面)\n",
    "np.random.seed(2023)"
   ]
  },
  {
   "cell_type": "code",
   "execution_count": 4,
   "metadata": {},
   "outputs": [
    {
     "data": {
      "text/plain": [
       "array([ 0.35583677, -0.16224248, -0.50093532,  0.1181254 , -0.05107992,\n",
       "       -0.57064631,  1.32720363,  0.7203026 ,  0.04945114, -1.56076608])"
      ]
     },
     "execution_count": 4,
     "metadata": {},
     "output_type": "execute_result"
    }
   ],
   "source": [
    "# obtain 10 random numbers for normal(0, 0.5^2) from seed 2023 path\n",
    "np.random.normal(0, 0.5, 10)"
   ]
  },
  {
   "cell_type": "code",
   "execution_count": 5,
   "metadata": {},
   "outputs": [
    {
     "data": {
      "text/plain": [
       "array([-0.53826082, -0.16284098, -0.51774894, -0.21316019, -0.5146807 ,\n",
       "       -0.2608871 , -0.21137878, -0.04962209, -0.69012901,  0.15095141])"
      ]
     },
     "execution_count": 5,
     "metadata": {},
     "output_type": "execute_result"
    }
   ],
   "source": [
    "# obtain the next 10 random numbers for normal(0, 0.5^2) from seed 2023 path\n",
    "np.random.normal(0, 0.5, 10)"
   ]
  },
  {
   "cell_type": "code",
   "execution_count": 6,
   "metadata": {},
   "outputs": [],
   "source": [
    "def Draw():\n",
    "    def draw(size):\n",
    "        return np.random.normal(0,0.5,size)\n",
    "    return draw\n",
    "\n",
    "draw=Draw()"
   ]
  },
  {
   "cell_type": "code",
   "execution_count": 7,
   "metadata": {},
   "outputs": [
    {
     "name": "stdout",
     "output_type": "stream",
     "text": [
      "0.3624767631605479\n",
      "0.6113037549761363\n"
     ]
    }
   ],
   "source": [
    "import random\n",
    "\n",
    "# Set the initial seed\n",
    "seed_value = 42\n",
    "\n",
    "\n",
    "# Generate and print the first random number\n",
    "print(random.random())\n",
    "\n",
    "# Store the state of the random number generator\n",
    "state = random.getstate()\n",
    "\n",
    "# Continue generating random numbers\n",
    "# ...\n",
    "\n",
    "# Restore the state to continue from where we left off\n",
    "random.setstate(state)\n",
    "\n",
    "# Generate and print the next random number\n",
    "print(random.random())"
   ]
  },
  {
   "cell_type": "code",
   "execution_count": null,
   "metadata": {},
   "outputs": [],
   "source": []
  }
 ],
 "metadata": {
  "kernelspec": {
   "display_name": ".venv",
   "language": "python",
   "name": "python3"
  },
  "language_info": {
   "codemirror_mode": {
    "name": "ipython",
    "version": 3
   },
   "file_extension": ".py",
   "mimetype": "text/x-python",
   "name": "python",
   "nbconvert_exporter": "python",
   "pygments_lexer": "ipython3",
   "version": "3.11.5"
  }
 },
 "nbformat": 4,
 "nbformat_minor": 2
}
