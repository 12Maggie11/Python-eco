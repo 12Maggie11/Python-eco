{
 "cells": [
  {
   "cell_type": "markdown",
   "metadata": {},
   "source": [
    "#  Game Object\n",
    "Prisoner's Dilemma"
   ]
  },
  {
   "cell_type": "code",
   "execution_count": 4,
   "metadata": {},
   "outputs": [],
   "source": [
    "class Player:\n",
    "    def __init__(self, name, strategies):\n",
    "        self.name = name\n",
    "        self.strategies = strategies\n",
    "        self.played_strategy = None\n",
    "    def play(self, strategy):\n",
    "        self.played_strategy = strategy\n",
    "        return strategy"
   ]
  },
  {
   "cell_type": "code",
   "execution_count": 10,
   "metadata": {},
   "outputs": [
    {
     "ename": "KeyError",
     "evalue": "'C'",
     "output_type": "error",
     "traceback": [
      "\u001b[1;31m---------------------------------------------------------------------------\u001b[0m",
      "\u001b[1;31mKeyError\u001b[0m                                  Traceback (most recent call last)",
      "\u001b[1;32mc:\\Users\\Maggie\\Documents\\GitHub\\Python-eco\\ipynb\\week10.ipynb Cell 3\u001b[0m line \u001b[0;36m1\n\u001b[0;32m      <a href='vscode-notebook-cell:/c%3A/Users/Maggie/Documents/GitHub/Python-eco/ipynb/week10.ipynb#W2sZmlsZQ%3D%3D?line=8'>9</a>\u001b[0m \u001b[39mdef\u001b[39;00m \u001b[39mpayoff_func\u001b[39m(strategies: \u001b[39mtuple\u001b[39m[\u001b[39mstr\u001b[39m, \u001b[39mstr\u001b[39m]) \u001b[39m-\u001b[39m\u001b[39m>\u001b[39m \u001b[39mtuple\u001b[39m[\u001b[39mfloat\u001b[39m,\u001b[39mfloat\u001b[39m]:\n\u001b[0;32m     <a href='vscode-notebook-cell:/c%3A/Users/Maggie/Documents/GitHub/Python-eco/ipynb/week10.ipynb#W2sZmlsZQ%3D%3D?line=9'>10</a>\u001b[0m     \u001b[39mreturn\u001b[39;00m payoffMatrix[strategies]\n\u001b[1;32m---> <a href='vscode-notebook-cell:/c%3A/Users/Maggie/Documents/GitHub/Python-eco/ipynb/week10.ipynb#W2sZmlsZQ%3D%3D?line=11'>12</a>\u001b[0m payoff_func((\u001b[39m'\u001b[39;49m\u001b[39mC\u001b[39;49m\u001b[39m'\u001b[39;49m))\n",
      "\u001b[1;32mc:\\Users\\Maggie\\Documents\\GitHub\\Python-eco\\ipynb\\week10.ipynb Cell 3\u001b[0m line \u001b[0;36m1\n\u001b[0;32m      <a href='vscode-notebook-cell:/c%3A/Users/Maggie/Documents/GitHub/Python-eco/ipynb/week10.ipynb#W2sZmlsZQ%3D%3D?line=8'>9</a>\u001b[0m \u001b[39mdef\u001b[39;00m \u001b[39mpayoff_func\u001b[39m(strategies: \u001b[39mtuple\u001b[39m[\u001b[39mstr\u001b[39m, \u001b[39mstr\u001b[39m]) \u001b[39m-\u001b[39m\u001b[39m>\u001b[39m \u001b[39mtuple\u001b[39m[\u001b[39mfloat\u001b[39m,\u001b[39mfloat\u001b[39m]:\n\u001b[1;32m---> <a href='vscode-notebook-cell:/c%3A/Users/Maggie/Documents/GitHub/Python-eco/ipynb/week10.ipynb#W2sZmlsZQ%3D%3D?line=9'>10</a>\u001b[0m     \u001b[39mreturn\u001b[39;00m payoffMatrix[strategies]\n",
      "\u001b[1;31mKeyError\u001b[0m: 'C'"
     ]
    }
   ],
   "source": [
    "alice=Player(\"Alice\",['C','D'])\n",
    "bob=Player(\"Bob\",['C','D'])\n",
    "payoffMatrix = {\n",
    "    ('C','C'): (-1,-1),\n",
    "    ('C','D'): (-3,0),\n",
    "    ('D','C'): (0,-3),\n",
    "    ('D','D'): (-2,-2)\n",
    "}\n",
    "def payoff_func(strategies: tuple[str, str]) -> tuple[float,float]:\n",
    "    return payoffMatrix[strategies]\n"
   ]
  },
  {
   "cell_type": "code",
   "execution_count": 42,
   "metadata": {},
   "outputs": [
    {
     "data": {
      "text/plain": [
       "('Alice', ['C', 'D'], None)"
      ]
     },
     "execution_count": 42,
     "metadata": {},
     "output_type": "execute_result"
    }
   ],
   "source": [
    "# show pure strategies of Alice\n",
    "# show played strategy of Alice, None by default\n",
    "alice.name, alice.strategies, alice.played_strategy"
   ]
  },
  {
   "cell_type": "code",
   "execution_count": 43,
   "metadata": {},
   "outputs": [
    {
     "data": {
      "text/plain": [
       "('C', 'C')"
      ]
     },
     "execution_count": 43,
     "metadata": {},
     "output_type": "execute_result"
    }
   ],
   "source": [
    "# show 'C'\n",
    "alice.play('C'), alice.played_strategy"
   ]
  },
  {
   "cell_type": "markdown",
   "metadata": {},
   "source": [
    "Player class"
   ]
  },
  {
   "cell_type": "markdown",
   "metadata": {},
   "source": [
    "A prototype"
   ]
  },
  {
   "cell_type": "code",
   "execution_count": null,
   "metadata": {},
   "outputs": [],
   "source": [
    "# Start from a prototype of only properties\n",
    "class Player:\n",
    "    def __init__(self, name:str, strategies:list[str]):\n",
    "        self.name = name\n",
    "        self.strategies = strategies\n",
    "        self.played_strategy = None\n",
    "    def play(self, played_strategy):\n",
    "        pass"
   ]
  },
  {
   "cell_type": "code",
   "execution_count": 48,
   "metadata": {},
   "outputs": [],
   "source": [
    "class Player:\n",
    "    def __init__(self, name, strategies):\n",
    "        self.name = name\n",
    "        self.strategies = strategies\n",
    "        self.played_strategy = None\n",
    "    def play(self, played_strategy):\n",
    "        play_method(self, played_strategy)\n",
    "class Game:\n",
    "    def __init__(self, player1, player2, payoff_function):\n",
    "        self.players = [player1, player2]\n",
    "        self.payoff_function = payoff_function\n",
    "    def payoff(self):\n",
    "        payoff(self)\n",
    "\n",
    "# helper function\n",
    "def play_method(player, played_strategy):\n",
    "    if played_strategy not in player.strategies:\n",
    "        raise ValueError(\"Invalid strategy\")\n",
    "    else:\n",
    "        player.played_strategy = played_strategy\n",
    "def payoff(game):\n",
    "    played_strategies = game.players[0].played_strategy, game.players[1].played_strategy\n",
    "    if all(played_strategies):\n",
    "        return game.payoff_function(played_strategies)\n",
    "    else:\n",
    "        print(\"Not all players have played their strategies yet.\")"
   ]
  },
  {
   "cell_type": "code",
   "execution_count": 52,
   "metadata": {},
   "outputs": [],
   "source": [
    "alice=Player(\"Alice\", ['C','D'])\n",
    "bob=Player(\"Bob\", ['C','D'])\n",
    "payoffMatrix = {\n",
    "    ('C','C'): (-1,-1),\n",
    "    ('C','D'): (-3,0),\n",
    "    ('D','C'): (0,-3),\n",
    "    ('D','D'): (-2,-2)\n",
    "}\n",
    "def payoff_func(strategies):\n",
    "    return payoffMatrix[strategies]"
   ]
  },
  {
   "cell_type": "code",
   "execution_count": 53,
   "metadata": {},
   "outputs": [],
   "source": [
    "alice.play('C')\n",
    "bob.play('C')\n",
    "payoff_function = payoff_func \n",
    "game = Game(alice, bob, payoff_func)"
   ]
  },
  {
   "cell_type": "code",
   "execution_count": 54,
   "metadata": {},
   "outputs": [
    {
     "name": "stdout",
     "output_type": "stream",
     "text": [
      "None\n"
     ]
    }
   ],
   "source": [
    "print(game.payoff())"
   ]
  },
  {
   "cell_type": "markdown",
   "metadata": {},
   "source": [
    "Exercise Another Game User Interface"
   ]
  },
  {
   "cell_type": "code",
   "execution_count": 1,
   "metadata": {},
   "outputs": [],
   "source": [
    "payoffMatrix1 = [\n",
    "    [-1, -3], \n",
    "    [0, -2]\n",
    "]\n",
    "payoffMatrix2 = [\n",
    "    [-1, 0],\n",
    "    [-3, -2]\n",
    "]\n",
    "\n",
    "player1 = Player(\"Alice\", ['C', 'D'])\n",
    "player2 = Player(\"Bob\", ['C', 'D'])\n",
    "\n",
    "# interface\n",
    "player1.name\n",
    "player1.strategies\n",
    "player1.played_strategy\n",
    "\n",
    "game = Game([player1, player2], [payoffMatrix1, payoffMatrix2])\n",
    "\n",
    "# interface\n",
    "game.players\n",
    "game.payoff_function\n",
    "game.payoff"
   ]
  },
  {
   "cell_type": "code",
   "execution_count": 5,
   "metadata": {},
   "outputs": [
    {
     "data": {
      "text/plain": [
       "(-2, -2)"
      ]
     },
     "execution_count": 5,
     "metadata": {},
     "output_type": "execute_result"
    }
   ],
   "source": [
    "payoffMatrix1 = [\n",
    "    [-1, -3], \n",
    "    [0, -2]\n",
    "]\n",
    "payoffMatrix2 = [\n",
    "    [-1, 0],\n",
    "    [-3, -2]\n",
    "]"
   ]
  },
  {
   "cell_type": "code",
   "execution_count": 34,
   "metadata": {},
   "outputs": [],
   "source": [
    "def payoff_function(strategies):\n",
    "    if strategies==('C','C'):\n",
    "        return (payoffMatrix1[0][0], payoffMatrix2[0][0])\n",
    "    elif strategies==('C','D'):\n",
    "        return (payoffMatrix1[0][1], payoffMatrix2[0][1])\n",
    "    elif strategies==('D','C'):\n",
    "        return (payoffMatrix1[1][0], payoffMatrix2[1][0])\n",
    "    elif strategies==('D','D'):\n",
    "        return (payoffMatrix1[1][1], payoffMatrix2[1][1])\n",
    "    else:\n",
    "        return \"ERROR\"\n",
    "    "
   ]
  },
  {
   "cell_type": "code",
   "execution_count": 28,
   "metadata": {},
   "outputs": [],
   "source": [
    "class Player:\n",
    "    def __init__(self, name, strategies):\n",
    "        self.name = name\n",
    "        self.strategies = strategies\n",
    "        self.played_strategy = None\n",
    "    def play(self, played_strategy):\n",
    "        play_method(self, played_strategy)\n",
    "\n",
    "class Game:\n",
    "    def __init__(self, player1, player2, payoffMatrix1, payoffMatrix2):\n",
    "        self.players = [player1, player2]\n",
    "        self.payoffMatrixs = [payoffMatrix1, payoffMatrix2]\n",
    "        self.payoff_function = payoff_function\n",
    "    def payoff(self):\n",
    "        payoff(self)\n",
    "\n",
    "# helper function\n",
    "def play_method(player, played_strategy):\n",
    "    if played_strategy not in player.strategies:\n",
    "        raise ValueError(\"Invalid strategy\")\n",
    "    else:\n",
    "        player.played_strategy = played_strategy\n",
    "def payoff(game):\n",
    "    played_strategies = game.players[0].played_strategy, game.players[1].played_strategy\n",
    "    if all(played_strategies):\n",
    "        return game.payoff_function(played_strategies)\n",
    "    else:\n",
    "        print(\"Not all players have played their strategies yet.\")\n"
   ]
  },
  {
   "cell_type": "code",
   "execution_count": 30,
   "metadata": {},
   "outputs": [],
   "source": [
    "player1 = Player(\"Alice\", ['C', 'D'])\n",
    "player2 = Player(\"Bob\", ['C', 'D'])\n",
    "\n",
    "payoffMatrix1 = [\n",
    "    [-1, -3], \n",
    "    [0, -2]\n",
    "]\n",
    "payoffMatrix2 = [\n",
    "    [-1, 0],\n",
    "    [-3, -2]\n",
    "]\n",
    "\n",
    "def payoff_function(strategies):\n",
    "    if strategies==('C','C'):\n",
    "        return (payoffMatrix1[0][0], payoffMatrix2[0][0])\n",
    "    elif strategies==('C','D'):\n",
    "        return (payoffMatrix1[0][1], payoffMatrix2[0][1])\n",
    "    elif strategies==('D','C'):\n",
    "        return (payoffMatrix1[1][0], payoffMatrix2[1][0])\n",
    "    elif strategies==('D','D'):\n",
    "        return (payoffMatrix1[1][1], payoffMatrix2[1][1])\n",
    "    else:\n",
    "        return \"ERROR\"\n",
    "\n",
    "game = Game(player1, player2, payoffMatrix1, payoffMatrix2)"
   ]
  },
  {
   "cell_type": "code",
   "execution_count": 31,
   "metadata": {},
   "outputs": [],
   "source": [
    "player1.play('C')"
   ]
  },
  {
   "cell_type": "code",
   "execution_count": 32,
   "metadata": {},
   "outputs": [],
   "source": [
    "player2.play('D')"
   ]
  },
  {
   "cell_type": "code",
   "execution_count": 33,
   "metadata": {},
   "outputs": [
    {
     "data": {
      "text/plain": [
       "[<__main__.Player at 0x245e9778510>, <__main__.Player at 0x245e977b110>]"
      ]
     },
     "execution_count": 33,
     "metadata": {},
     "output_type": "execute_result"
    }
   ],
   "source": [
    "game.players"
   ]
  },
  {
   "cell_type": "code",
   "execution_count": 34,
   "metadata": {},
   "outputs": [],
   "source": [
    "game.payoff()"
   ]
  }
 ],
 "metadata": {
  "kernelspec": {
   "display_name": ".venv",
   "language": "python",
   "name": "python3"
  },
  "language_info": {
   "codemirror_mode": {
    "name": "ipython",
    "version": 3
   },
   "file_extension": ".py",
   "mimetype": "text/x-python",
   "name": "python",
   "nbconvert_exporter": "python",
   "pygments_lexer": "ipython3",
   "version": "3.11.5"
  }
 },
 "nbformat": 4,
 "nbformat_minor": 2
}
