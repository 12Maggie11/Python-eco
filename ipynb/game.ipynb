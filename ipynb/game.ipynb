{
 "cells": [
  {
   "cell_type": "markdown",
   "metadata": {},
   "source": [
    "# Game Theory"
   ]
  },
  {
   "cell_type": "markdown",
   "metadata": {},
   "source": [
    "## 1 Stratrgy Spaces"
   ]
  },
  {
   "cell_type": "code",
   "execution_count": 6,
   "metadata": {},
   "outputs": [],
   "source": [
    "playerA_strategies = [\"A1\", \"A2\"]\n",
    "playerB_strategies = [\"B1\", \"B2\"]"
   ]
  },
  {
   "cell_type": "markdown",
   "metadata": {},
   "source": [
    "## 2 Player Class\n",
    "\n",
    "The above description is the basis for the Player class below. An instance of Player, a player, has the following attributes:\n",
    "\n",
    "* name: the name of the player \n",
    "* strategy_space: the strategy space of the player\n",
    "\n",
    "A player has the following methods:\n",
    "\n",
    "* play: choose a strategy from his/her strategy space"
   ]
  },
  {
   "cell_type": "code",
   "execution_count": 7,
   "metadata": {},
   "outputs": [],
   "source": [
    "class Player:\n",
    "    def __init__(self, name, strategies):\n",
    "        self.name = name\n",
    "        self.strategies = strategies\n",
    "        self.played_strategy = None\n",
    "    def play(self, strategy):\n",
    "        self.played_strategy = strategy\n",
    "        return strategy"
   ]
  },
  {
   "cell_type": "code",
   "execution_count": 11,
   "metadata": {},
   "outputs": [],
   "source": [
    "playerA = Player(\"A\", playerA_strategies)\n",
    "playerB = Player(\"B\", playerB_strategies)"
   ]
  },
  {
   "cell_type": "code",
   "execution_count": 12,
   "metadata": {},
   "outputs": [
    {
     "data": {
      "text/plain": [
       "(None, None)"
      ]
     },
     "execution_count": 12,
     "metadata": {},
     "output_type": "execute_result"
    }
   ],
   "source": [
    "# Strategy_profile\n",
    "playerA.played_strategy, playerB.played_strategy"
   ]
  },
  {
   "cell_type": "code",
   "execution_count": 16,
   "metadata": {},
   "outputs": [
    {
     "data": {
      "text/plain": [
       "('A1', 'B2')"
      ]
     },
     "execution_count": 16,
     "metadata": {},
     "output_type": "execute_result"
    }
   ],
   "source": [
    "playerA.play(\"A1\"), playerB.play(\"B2\")"
   ]
  },
  {
   "cell_type": "code",
   "execution_count": 17,
   "metadata": {},
   "outputs": [
    {
     "data": {
      "text/plain": [
       "('A1', 'B2')"
      ]
     },
     "execution_count": 17,
     "metadata": {},
     "output_type": "execute_result"
    }
   ],
   "source": [
    "# Strategy_profile\n",
    "playerA.played_strategy, playerB.played_strategy"
   ]
  },
  {
   "cell_type": "markdown",
   "metadata": {},
   "source": [
    "## 3 Payoff Function\n",
    "A payoff function is a function that maps a strategy profile to a set of each player's payoff.\n",
    "\n",
    "* A strategy profile is a tuple of strategies, one for each player.\n",
    "* A payoff is a number that represents the utility of a player."
   ]
  },
  {
   "cell_type": "code",
   "execution_count": 21,
   "metadata": {},
   "outputs": [
    {
     "data": {
      "text/plain": [
       "(2, 2)"
      ]
     },
     "execution_count": 21,
     "metadata": {},
     "output_type": "execute_result"
    }
   ],
   "source": [
    "payoffMatrix = {\n",
    "    ('A1', 'B1'): (1, 1),\n",
    "    ('A1', 'B2'): (0, 0),\n",
    "    ('A2', 'B1'): (0, 0),\n",
    "    ('A2', 'B2'): (2, 2)\n",
    "}\n",
    "\n",
    "def payoff(strategyA, strategyB):\n",
    "    return payoffMatrix[(strategyA, strategyB)]\n",
    "\n",
    "payoff('A2', 'B2')"
   ]
  },
  {
   "cell_type": "markdown",
   "metadata": {},
   "source": [
    "## 4 Game Class\n",
    "A game consists of\n",
    "\n",
    "* a set of players (Player class)\n",
    "* a payoff function (payoffMatrix)\n",
    "\n",
    "And when both players played their strategies, the payoff can be calculated."
   ]
  },
  {
   "cell_type": "code",
   "execution_count": 22,
   "metadata": {},
   "outputs": [],
   "source": [
    "payoffMatrix = {\n",
    "    ('A1', 'B1'): (1, 1),\n",
    "    ('A1', 'B2'): (0, 0),\n",
    "    ('A2', 'B1'): (0, 0),\n",
    "    ('A2', 'B2'): (2, 2)\n",
    "}"
   ]
  },
  {
   "cell_type": "code",
   "execution_count": 25,
   "metadata": {},
   "outputs": [],
   "source": [
    "def payoff(strategyA, strategyB):\n",
    "    # check if strategyA and strategyB are both not None\n",
    "    if strategyA and strategyB:\n",
    "        return payoffMatrix[(strategyA, strategyB)]\n",
    "    else:\n",
    "        print(\"Not all players have played yet.\")"
   ]
  },
  {
   "cell_type": "code",
   "execution_count": 31,
   "metadata": {},
   "outputs": [
    {
     "data": {
      "text/plain": [
       "(0, 0)"
      ]
     },
     "execution_count": 31,
     "metadata": {},
     "output_type": "execute_result"
    }
   ],
   "source": [
    "payoff('A1', 'B2')"
   ]
  },
  {
   "cell_type": "code",
   "execution_count": 33,
   "metadata": {},
   "outputs": [
    {
     "name": "stdout",
     "output_type": "stream",
     "text": [
      "Not all players have played yet.\n"
     ]
    }
   ],
   "source": [
    "payoff(None, 'B1')"
   ]
  },
  {
   "cell_type": "code",
   "execution_count": 34,
   "metadata": {},
   "outputs": [],
   "source": [
    "class Game:\n",
    "    def __init__(self, playerA, playerB, payoffMatrix):\n",
    "        self.players = playerA, playerB\n",
    "        self.payoffMatrix = payoffMatrix\n",
    "    def payoff(self):\n",
    "        if self.players[0].played_strategy and self.players[1].played_strategy:\n",
    "            return self.payoffMatrix[(self.players[0].played_strategy, self.players[1].played_strategy)]\n",
    "        else:\n",
    "            print(\"Not all players have played yet.\")"
   ]
  },
  {
   "cell_type": "code",
   "execution_count": 35,
   "metadata": {},
   "outputs": [],
   "source": [
    "playerA = Player(\"A\", ['A1', 'A2'])\n",
    "playerB = Player(\"B\", ['B1', 'B2'])\n",
    "game = Game(playerA, playerB, \n",
    "            {\n",
    "                ('A1', 'B1'): (1, 1),\n",
    "                ('A1', 'B2'): (0, 0),\n",
    "                ('A2', 'B1'): (0, 0),\n",
    "                ('A2', 'B2'): (2, 2)\n",
    "            }\n",
    "            )"
   ]
  },
  {
   "cell_type": "code",
   "execution_count": 36,
   "metadata": {},
   "outputs": [
    {
     "data": {
      "text/plain": [
       "'A1'"
      ]
     },
     "execution_count": 36,
     "metadata": {},
     "output_type": "execute_result"
    }
   ],
   "source": [
    "playerA.play('A1')"
   ]
  },
  {
   "cell_type": "code",
   "execution_count": 37,
   "metadata": {},
   "outputs": [
    {
     "data": {
      "text/plain": [
       "('A1', None)"
      ]
     },
     "execution_count": 37,
     "metadata": {},
     "output_type": "execute_result"
    }
   ],
   "source": [
    "game.players[0].played_strategy, game.players[1].played_strategy"
   ]
  },
  {
   "cell_type": "code",
   "execution_count": 38,
   "metadata": {},
   "outputs": [
    {
     "data": {
      "text/plain": [
       "'B1'"
      ]
     },
     "execution_count": 38,
     "metadata": {},
     "output_type": "execute_result"
    }
   ],
   "source": [
    "playerB.play('B1')"
   ]
  },
  {
   "cell_type": "code",
   "execution_count": 39,
   "metadata": {},
   "outputs": [
    {
     "data": {
      "text/plain": [
       "('A1', 'B1')"
      ]
     },
     "execution_count": 39,
     "metadata": {},
     "output_type": "execute_result"
    }
   ],
   "source": [
    "game.players[0].played_strategy, game.players[1].played_strategy"
   ]
  },
  {
   "cell_type": "code",
   "execution_count": 41,
   "metadata": {},
   "outputs": [
    {
     "data": {
      "text/plain": [
       "(1, 1)"
      ]
     },
     "execution_count": 41,
     "metadata": {},
     "output_type": "execute_result"
    }
   ],
   "source": [
    "game.payoff()"
   ]
  },
  {
   "cell_type": "code",
   "execution_count": 42,
   "metadata": {},
   "outputs": [
    {
     "data": {
      "text/plain": [
       "('A1', 'B2')"
      ]
     },
     "execution_count": 42,
     "metadata": {},
     "output_type": "execute_result"
    }
   ],
   "source": [
    "playerA.play('A1'), playerB.play('B2')"
   ]
  },
  {
   "cell_type": "code",
   "execution_count": 43,
   "metadata": {},
   "outputs": [
    {
     "data": {
      "text/plain": [
       "(0, 0)"
      ]
     },
     "execution_count": 43,
     "metadata": {},
     "output_type": "execute_result"
    }
   ],
   "source": [
    "game.payoff()"
   ]
  },
  {
   "cell_type": "code",
   "execution_count": 44,
   "metadata": {},
   "outputs": [
    {
     "data": {
      "text/plain": [
       "('A2', 'B2')"
      ]
     },
     "execution_count": 44,
     "metadata": {},
     "output_type": "execute_result"
    }
   ],
   "source": [
    "playerA.play('A2'), playerB.play('B2')"
   ]
  },
  {
   "cell_type": "code",
   "execution_count": 45,
   "metadata": {},
   "outputs": [
    {
     "data": {
      "text/plain": [
       "(2, 2)"
      ]
     },
     "execution_count": 45,
     "metadata": {},
     "output_type": "execute_result"
    }
   ],
   "source": [
    "game.payoff()"
   ]
  },
  {
   "cell_type": "markdown",
   "metadata": {},
   "source": [
    "# Game Object"
   ]
  },
  {
   "cell_type": "markdown",
   "metadata": {},
   "source": [
    "In Game Theory, a game can be presented in two forms: normal form and extensive form. Normal form is a matrix, while extensive form is a tree. In this class, we will focus on normal form games.\n",
    "\n",
    "Here we only focus on\n",
    "\n",
    "* 2 players game\n",
    "* Its payoff matrix (i.e. its normal form) can be presented as a 2 dimensional matrix\n",
    "    * Each player has a finite number of pure strategies"
   ]
  },
  {
   "cell_type": "markdown",
   "metadata": {},
   "source": [
    "## Prisoner's Dilemma\n",
    "\n",
    "* 2 players: Alice (row player) and Bob (column player)\n",
    "* Each player has 2 pure strategies: cooperate (C) and defect (D)"
   ]
  },
  {
   "cell_type": "code",
   "execution_count": 92,
   "metadata": {},
   "outputs": [],
   "source": [
    "alice = Player(\"Alice\", ['C', 'D'])\n",
    "bob = Player(\"Bob\", ['C', 'D'])\n",
    "payoffMatrix = {\n",
    "    ('C', 'C'): (-1, -1),\n",
    "    ('C', 'D'): (-3, 0),\n",
    "    ('D', 'C'): (0, -3),\n",
    "    ('D', 'D'): (-2, -2)\n",
    "}\n",
    "\n",
    "def payoff_function(strategies):\n",
    "    return payoffMatrix[strategies]"
   ]
  },
  {
   "cell_type": "code",
   "execution_count": 93,
   "metadata": {},
   "outputs": [
    {
     "data": {
      "text/plain": [
       "('Alice', ['C', 'D'], None)"
      ]
     },
     "execution_count": 93,
     "metadata": {},
     "output_type": "execute_result"
    }
   ],
   "source": [
    "alice.name, alice.strategies, alice.played_strategy"
   ]
  },
  {
   "cell_type": "code",
   "execution_count": 94,
   "metadata": {},
   "outputs": [],
   "source": [
    "alice.play('C')"
   ]
  },
  {
   "cell_type": "code",
   "execution_count": 95,
   "metadata": {},
   "outputs": [
    {
     "data": {
      "text/plain": [
       "'C'"
      ]
     },
     "execution_count": 95,
     "metadata": {},
     "output_type": "execute_result"
    }
   ],
   "source": [
    "alice.played_strategy"
   ]
  },
  {
   "cell_type": "markdown",
   "metadata": {},
   "source": [
    "### Player Class\n",
    "A prototype"
   ]
  },
  {
   "cell_type": "code",
   "execution_count": 96,
   "metadata": {},
   "outputs": [],
   "source": [
    "# Start from a prototype of only properties\n",
    "class Player:\n",
    "    def __init__(self, name, strategies):\n",
    "        self.name = name\n",
    "        self.strategies = strategies\n",
    "        self.played_strategy = None\n",
    "    def play(self, played_strategy):\n",
    "        pass"
   ]
  },
  {
   "cell_type": "markdown",
   "metadata": {},
   "source": [
    "Design play method helper"
   ]
  },
  {
   "cell_type": "code",
   "execution_count": 97,
   "metadata": {},
   "outputs": [],
   "source": [
    "player = Player(\"Alice\", ['C', 'D'])"
   ]
  },
  {
   "cell_type": "code",
   "execution_count": 98,
   "metadata": {},
   "outputs": [],
   "source": [
    "# play method has one input, called played_strategy for example\n",
    "played_strategy = \"C\"\n",
    "\n",
    "# we want the following to happen\n",
    "## Anything you want to happen under the hood\n",
    "player.played_strategy = played_strategy"
   ]
  },
  {
   "cell_type": "code",
   "execution_count": 99,
   "metadata": {},
   "outputs": [],
   "source": [
    "def play_method(play, played_strategy):\n",
    "    play.played_strategy = played_strategy"
   ]
  },
  {
   "cell_type": "markdown",
   "metadata": {},
   "source": [
    "Attach helper to the class"
   ]
  },
  {
   "cell_type": "code",
   "execution_count": 100,
   "metadata": {},
   "outputs": [],
   "source": [
    "class Player:\n",
    "    def __init__(self, name, strategies):\n",
    "        self.name = name\n",
    "        self.strategies = strategies\n",
    "        self.played_strategy = None\n",
    "    def play(self, played_strategy):\n",
    "        play_method(self, played_strategy)\n",
    "\n",
    "# helper functions\n",
    "def played_method(play, played_strategy):\n",
    "    play.played_strategy = played_strategy"
   ]
  },
  {
   "cell_type": "markdown",
   "metadata": {},
   "source": [
    "### Game Class"
   ]
  },
  {
   "cell_type": "code",
   "execution_count": 101,
   "metadata": {},
   "outputs": [],
   "source": [
    "game = Game(alice, bob, payoff_function)"
   ]
  },
  {
   "cell_type": "code",
   "execution_count": null,
   "metadata": {},
   "outputs": [],
   "source": [
    "# 想要執行如下的程式\n",
    "\n",
    "game.payoff_function # show payoff_function\n",
    "game.players # show [alice, bob]\n",
    "\n",
    "# method payoff\n",
    "## after\n",
    "alice.play('C')\n",
    "bob.play('D')\n",
    "## we can compute payoff\n",
    "game.payoff() # show "
   ]
  },
  {
   "cell_type": "markdown",
   "metadata": {},
   "source": [
    "A prototype"
   ]
  },
  {
   "cell_type": "code",
   "execution_count": 102,
   "metadata": {},
   "outputs": [],
   "source": [
    "class Game:\n",
    "    def __init__(self, player1, player2, payoff_function):\n",
    "        self.players = [player1, player2]\n",
    "        self.payoff_function = payoff_function\n",
    "    def payoff(self):\n",
    "        pass"
   ]
  },
  {
   "cell_type": "code",
   "execution_count": 103,
   "metadata": {},
   "outputs": [],
   "source": [
    "game = Game(alice, bob, payoff_function)"
   ]
  },
  {
   "cell_type": "markdown",
   "metadata": {},
   "source": [
    "Design payoff helper"
   ]
  },
  {
   "cell_type": "code",
   "execution_count": null,
   "metadata": {},
   "outputs": [],
   "source": [
    "## after\n",
    "alice.play('C')\n",
    "bob.play('D')\n",
    "\n",
    "## compute payoff\n",
    "strategies = game.players[0].played_strategy, game.players[1].played_strategy\n",
    "game.payoff_function(strategies)"
   ]
  },
  {
   "cell_type": "code",
   "execution_count": 104,
   "metadata": {},
   "outputs": [],
   "source": [
    "# helper function\n",
    "def payoff(game):\n",
    "    strategies = game.players[0].played_strategy, game.players[1].played_strategy\n",
    "    return game.payoff_function(strategies)"
   ]
  },
  {
   "cell_type": "markdown",
   "metadata": {},
   "source": [
    "Attach helper to the class"
   ]
  },
  {
   "cell_type": "code",
   "execution_count": 105,
   "metadata": {},
   "outputs": [],
   "source": [
    "class Game:\n",
    "    def __init__(self, player1, player2, payoff_function):\n",
    "        self.players = [player1, player2]\n",
    "        self.payoff_function = payoff_function\n",
    "    def payoff(self):\n",
    "        payoff(self)\n",
    "\n",
    "# helper function\n",
    "def payoff(game):\n",
    "    strategies = game.players[0].played_strategy, game.players[1].played_strategy\n",
    "    return game.payoff_function(strategies)"
   ]
  },
  {
   "cell_type": "markdown",
   "metadata": {},
   "source": [
    "### Complete Game class\n",
    "Beta Version"
   ]
  },
  {
   "cell_type": "code",
   "execution_count": 107,
   "metadata": {},
   "outputs": [],
   "source": [
    "class Player:\n",
    "    def __init__(self, name, strategies):\n",
    "        self.name = name\n",
    "        self.strategies = strategies\n",
    "        self.played_strategy = None\n",
    "    def play(self, played_strategy):\n",
    "        play_method(self, played_strategy)\n",
    "\n",
    "class Game:\n",
    "    def __init__(self, player1, player2, payoff_function):\n",
    "        self.players = [player1, player2]\n",
    "        self.payoff_function = payoff_function\n",
    "    def payoff(self):\n",
    "        payoff(self)\n",
    "\n",
    "# helper function\n",
    "def play_method(play, played_strategy):\n",
    "    play.played_strategy = played_strategy\n",
    "def payoff(game):\n",
    "    strategies = game.players[0].played_strategy, game.players[1].played_strategy\n",
    "    return game.payoff_function(strategies)"
   ]
  },
  {
   "cell_type": "markdown",
   "metadata": {},
   "source": [
    "Upgrade version"
   ]
  },
  {
   "cell_type": "code",
   "execution_count": 106,
   "metadata": {},
   "outputs": [],
   "source": [
    "class Player:\n",
    "    def __init__(self, name, strategies):\n",
    "        self.name = name\n",
    "        self.strategies = strategies\n",
    "        self.played_strategy = None\n",
    "    def play(self, played_strategy):\n",
    "        play_method(self, played_strategy)\n",
    "\n",
    "class Game:\n",
    "    def __init__(self, player1, player2, payoff_function):\n",
    "        self.players = [player1, player2]\n",
    "        self.payoff_function = payoff_function\n",
    "    def payoff(self):\n",
    "        payoff(self)\n",
    "\n",
    "# helper function\n",
    "def play_method(player, played_strategy):\n",
    "    if played_strategy not in player.strategies:\n",
    "        raise ValueError(\"Invalid strategy\")\n",
    "    else:\n",
    "        player.played_strategy = played_strategy\n",
    "def payoff(game):\n",
    "    played_strategies = game.players[0].played_strategy, game.players[1].played_strategy\n",
    "    if all(played_strategies):\n",
    "        # if both players have played their strategies\n",
    "        return game.payoff_function(played_strategies)\n",
    "    else:\n",
    "        print(\"Not all players have played their strategies yet.\")"
   ]
  },
  {
   "cell_type": "markdown",
   "metadata": {},
   "source": [
    "Practice Rock, Paper, Scissors"
   ]
  },
  {
   "cell_type": "code",
   "execution_count": 51,
   "metadata": {},
   "outputs": [],
   "source": [
    "class Player:\n",
    "    def __init__(self, name, strategies):\n",
    "        self.name = name\n",
    "        self.strategies = strategies\n",
    "        self.played_strategy = None\n",
    "    def play(self, played_strategy):\n",
    "        play_method(self, played_strategy)\n",
    "class Game:\n",
    "    def __init__(self, player1, player2, payoff_func, name):\n",
    "        self.players = [player1, player2]\n",
    "        self.payoff_func = payoff_func\n",
    "        self.name = name\n",
    "    def payoff(self):\n",
    "        payoff_method(self)\n",
    "\n",
    "# helper function\n",
    "def play_method(player, played_strategy):\n",
    "    player.played_strategy = played_strategy\n",
    "def payoff_method(game_paper_scissor_rock):\n",
    "    played_strategies = game_paper_scissor_rock.players[0].played_strategy, game_paper_scissor_rock.players[1].played_strategy\n",
    "    return game_paper_scissor_rock.payoff_func(played_strategies)"
   ]
  },
  {
   "cell_type": "code",
   "execution_count": 52,
   "metadata": {},
   "outputs": [],
   "source": [
    "player1 = Player(\"Alice\", ['P', 'S', 'R'])\n",
    "player2 = Player(\"Bob\", ['P', 'S', 'R'])\n",
    "\n",
    "payoffMatrix = {\n",
    "    ('P', 'P'): (0, 0),\n",
    "    ('P', 'S'): (-1, 1),\n",
    "    ('P', 'R'): (1, -1),\n",
    "    ('S', 'P'): (1, -1),\n",
    "    ('S', 'S'): (0, 0),\n",
    "    ('S', 'R'): (-1, 1),\n",
    "    ('R', 'P'): (-1, 1),\n",
    "    ('R', 'S'): (1, -1),\n",
    "    ('R', 'R'): (0, 0)\n",
    "}\n",
    "def payoff_func(strategies):\n",
    "    return payoffMatrix[strategies]\n",
    "\n",
    "game_paper_scissor_rock = Game(player1, player2, payoff_func, name=\"Paper Scissor Rock\")"
   ]
  },
  {
   "cell_type": "code",
   "execution_count": 53,
   "metadata": {},
   "outputs": [
    {
     "data": {
      "text/plain": [
       "'Alice'"
      ]
     },
     "execution_count": 53,
     "metadata": {},
     "output_type": "execute_result"
    }
   ],
   "source": [
    "player1.name"
   ]
  },
  {
   "cell_type": "code",
   "execution_count": 54,
   "metadata": {},
   "outputs": [],
   "source": [
    "player1.played_strategy"
   ]
  },
  {
   "cell_type": "code",
   "execution_count": 55,
   "metadata": {},
   "outputs": [
    {
     "data": {
      "text/plain": [
       "['P', 'S', 'R']"
      ]
     },
     "execution_count": 55,
     "metadata": {},
     "output_type": "execute_result"
    }
   ],
   "source": [
    "player1.strategies"
   ]
  },
  {
   "cell_type": "code",
   "execution_count": 56,
   "metadata": {},
   "outputs": [],
   "source": [
    "player1.play('P')"
   ]
  },
  {
   "cell_type": "code",
   "execution_count": 57,
   "metadata": {},
   "outputs": [],
   "source": [
    "player2.play('P')"
   ]
  },
  {
   "cell_type": "code",
   "execution_count": 61,
   "metadata": {},
   "outputs": [],
   "source": [
    "game_paper_scissor_rock.payoff()"
   ]
  },
  {
   "cell_type": "code",
   "execution_count": 62,
   "metadata": {},
   "outputs": [
    {
     "data": {
      "text/plain": [
       "(0, 0)"
      ]
     },
     "execution_count": 62,
     "metadata": {},
     "output_type": "execute_result"
    }
   ],
   "source": [
    "payoff_method(game_paper_scissor_rock)"
   ]
  },
  {
   "cell_type": "markdown",
   "metadata": {},
   "source": [
    "### Exercise Another Game User Interface"
   ]
  },
  {
   "cell_type": "code",
   "execution_count": null,
   "metadata": {},
   "outputs": [],
   "source": [
    "# 要練習的程式\n",
    "\n",
    "payoffMatrix1 = [[-1, -3],\n",
    "                 [0, -2]]\n",
    "payoffMatrix2 = [[-1, 0],\n",
    "                 [-3, -2]]\n",
    "\n",
    "player1 = Player(\"Alice\", ['C', 'D'])\n",
    "player2 = Player(\"Bob\", ['C', 'D'])\n",
    "\n",
    "game = Game([player1, player2], [payoffMatrix1, payoffMatrix2])\n",
    "\n",
    "player1.play('C')\n",
    "player2.play('D')\n",
    "game.payoff()"
   ]
  },
  {
   "cell_type": "code",
   "execution_count": 1,
   "metadata": {},
   "outputs": [],
   "source": [
    "class Player:\n",
    "    def __init__(self, name, strategies):\n",
    "        self.name = name \n",
    "        self.strategies = strategies\n",
    "        self.played_strategy = None\n",
    "    def play(self, played_strategy):\n",
    "        play_method(self, played_strategy)\n",
    "class Game:\n",
    "    def __init__(self, player1, player2, payoffMatrix1, payoffMatrix2):\n",
    "        self.players = [player1, player2]\n",
    "        self.payoffMatrix1 = payoffMatrix1\n",
    "        self.payoffMatrix2 = payoffMatrix2\n",
    "    def payoff(self):\n",
    "        played_strategies = (self.players[0].played_strategy, self.players[1].played_strategy)\n",
    "        if played_strategies==('C', 'C'):\n",
    "            return (self.payoffMatrix1[0][0], self.payoffMatrix2[0][0])\n",
    "        elif played_strategies==('C', 'D'):\n",
    "            return (self.payoffMatrix1[0][1], self.payoffMatrix2[0][1])\n",
    "        elif played_strategies==('D', 'C'):\n",
    "            return (self.payoffMatrix1[1][0], self.payoffMatrix2[1][0])\n",
    "        elif played_strategies==('D', 'D'):\n",
    "            return (self.payoffMatrix1[1][1], self.payoffMatrix2[1][1])\n",
    "        else:\n",
    "            return \"ERROR\"\n",
    "\n",
    "# helper function\n",
    "def play_method(player, played_strategy):\n",
    "    player.played_strategy = played_strategy\n"
   ]
  },
  {
   "cell_type": "code",
   "execution_count": 2,
   "metadata": {},
   "outputs": [],
   "source": [
    "player1 = Player(\"Alice\", ['C', 'D'])\n",
    "player2 = Player(\"Bob\", ['C', 'D'])"
   ]
  },
  {
   "cell_type": "code",
   "execution_count": 3,
   "metadata": {},
   "outputs": [],
   "source": [
    "payoffMatrix1 = [[-1, -3],\n",
    "                 [0, -2]]\n",
    "payoffMatrix2 = [[-1, 0],\n",
    "                 [-3, -2]]"
   ]
  },
  {
   "cell_type": "code",
   "execution_count": 4,
   "metadata": {},
   "outputs": [],
   "source": [
    "game = Game(player1, player2, payoffMatrix1, payoffMatrix2)"
   ]
  },
  {
   "cell_type": "code",
   "execution_count": 201,
   "metadata": {},
   "outputs": [
    {
     "data": {
      "text/plain": [
       "'Alice'"
      ]
     },
     "execution_count": 201,
     "metadata": {},
     "output_type": "execute_result"
    }
   ],
   "source": [
    "player1.name"
   ]
  },
  {
   "cell_type": "code",
   "execution_count": 202,
   "metadata": {},
   "outputs": [
    {
     "data": {
      "text/plain": [
       "['C', 'D']"
      ]
     },
     "execution_count": 202,
     "metadata": {},
     "output_type": "execute_result"
    }
   ],
   "source": [
    "player1.strategies"
   ]
  },
  {
   "cell_type": "code",
   "execution_count": 203,
   "metadata": {},
   "outputs": [
    {
     "name": "stdout",
     "output_type": "stream",
     "text": [
      "None\n"
     ]
    }
   ],
   "source": [
    "print(player1.played_strategy)"
   ]
  },
  {
   "cell_type": "code",
   "execution_count": 5,
   "metadata": {},
   "outputs": [],
   "source": [
    "player1.play('C')"
   ]
  },
  {
   "cell_type": "code",
   "execution_count": 205,
   "metadata": {},
   "outputs": [
    {
     "data": {
      "text/plain": [
       "'C'"
      ]
     },
     "execution_count": 205,
     "metadata": {},
     "output_type": "execute_result"
    }
   ],
   "source": [
    "player1.played_strategy"
   ]
  },
  {
   "cell_type": "code",
   "execution_count": 6,
   "metadata": {},
   "outputs": [],
   "source": [
    "player2.play('D')"
   ]
  },
  {
   "cell_type": "code",
   "execution_count": 207,
   "metadata": {},
   "outputs": [
    {
     "data": {
      "text/plain": [
       "'D'"
      ]
     },
     "execution_count": 207,
     "metadata": {},
     "output_type": "execute_result"
    }
   ],
   "source": [
    "player2.played_strategy"
   ]
  },
  {
   "cell_type": "code",
   "execution_count": 7,
   "metadata": {},
   "outputs": [
    {
     "data": {
      "text/plain": [
       "(-3, 0)"
      ]
     },
     "execution_count": 7,
     "metadata": {},
     "output_type": "execute_result"
    }
   ],
   "source": [
    "game.payoff()"
   ]
  }
 ],
 "metadata": {
  "kernelspec": {
   "display_name": ".venv",
   "language": "python",
   "name": "python3"
  },
  "language_info": {
   "codemirror_mode": {
    "name": "ipython",
    "version": 3
   },
   "file_extension": ".py",
   "mimetype": "text/x-python",
   "name": "python",
   "nbconvert_exporter": "python",
   "pygments_lexer": "ipython3",
   "version": "3.11.5"
  }
 },
 "nbformat": 4,
 "nbformat_minor": 2
}
