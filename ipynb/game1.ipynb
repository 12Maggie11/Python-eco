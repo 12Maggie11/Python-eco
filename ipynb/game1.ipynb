{
 "cells": [
  {
   "cell_type": "markdown",
   "metadata": {},
   "source": [
    "Composition in another angle"
   ]
  },
  {
   "cell_type": "markdown",
   "metadata": {},
   "source": []
  },
  {
   "cell_type": "code",
   "execution_count": 4,
   "metadata": {},
   "outputs": [],
   "source": [
    "class Player:\n",
    "    def __init__(self, name, strategies):\n",
    "        self.name = name\n",
    "        self.strategies = strategies\n",
    "        self.played_strategy = None\n",
    "    def play(self, played_strategy):\n",
    "        play_method(self, played_strategy)\n",
    "class Game:\n",
    "    games = []\n",
    "    def __init__(self, players_names, players_strategies, payoffMatrix, name=None):\n",
    "        self.name = name\n",
    "        self.players = [Player(players_names[i], players_strategies[i]) for i in range(len(players_names))]\n",
    "        self.payoffMatrix = payoffMatrix\n",
    "    def payoff(self):\n",
    "        played_strateggies = self.players[0].played_strategy, self.players[1].played_strategy\n",
    "        if all(played_strateggies):\n",
    "            # if both players have played their strategies\n",
    "            return self.payoffMatrix[played_strateggies]\n",
    "        else:\n",
    "            print(\"Not all players have played their strategies yet.\")\n",
    "\n",
    "# helper function\n",
    "def play_method(player, played_strategy):\n",
    "    if played_strategy not in player.strategies:\n",
    "        raise ValueError(\"Invalid strategy\")\n",
    "    else:\n",
    "        player.played_strategy = played_strategy"
   ]
  },
  {
   "cell_type": "markdown",
   "metadata": {},
   "source": [
    "# Class Property and Method\n",
    "Suppose you want to save all the game instances that you created for different game. You can use a class property to do so."
   ]
  },
  {
   "cell_type": "code",
   "execution_count": null,
   "metadata": {},
   "outputs": [],
   "source": [
    "# ideal interface\n",
    "# Prisoner's Dilemma\n",
    "player1 = Player(\"player1\", ['C', 'D'])\n",
    "player2 = Player(\"player2\", ['C', 'D'])\n",
    "payoffMatrix = {\n",
    "    ('C', 'C'): (-1, -1),\n",
    "    ('C', 'D'): (-3, 0),\n",
    "    ('D', 'C'): (0, -3),\n",
    "    ('D', 'D'): (-2, -2)\n",
    "}\n",
    "def payoff_func(strategies: tuple[str, str]) -> tuple[float, float]:\n",
    "    return payoffMatrix[strategies]\n",
    "\n",
    "game = Game(player1, player2, payoff_func, name=\"Prisoner's Dilemma\")\n",
    "\n",
    "# paper scissor rock\n",
    "player1 = Player(\"player1\", ['P', 'S', 'R'])\n",
    "player2 = Player(\"player2\", ['P', 'S', 'R'])\n",
    "payoffMatrix = {\n",
    "    ('P', 'P'): (0, 0),\n",
    "    ('P', 'S'): (-1, 1),\n",
    "    ('P', 'R'): (1, -1),\n",
    "    ('S', 'P'): (1, -1),\n",
    "    ('S', 'S'): (0, 0),\n",
    "    ('S', 'R'): (-1, 1),\n",
    "    ('R', 'P'): (-1, 1),\n",
    "    ('R', 'S'): (1, -1),\n",
    "    ('R', 'R'): (0, 0)\n",
    "}\n",
    "def payoff_func(strategies: tuple[str, str]) -> tuple[float, float]:\n",
    "    return payoffMatrix[strategies]\n",
    "\n",
    "game_paper_scissor_rock = Game(player1, player2, payoff_func, name=\"Paper Scissor Rock\", save=True)"
   ]
  },
  {
   "cell_type": "markdown",
   "metadata": {},
   "source": [
    "* Game init add save option, when True. The saved game can be seen in Game.games."
   ]
  },
  {
   "cell_type": "code",
   "execution_count": null,
   "metadata": {},
   "outputs": [],
   "source": [
    "Game.games # show all saved games\n",
    "game = Game.create_from_template(\"game_id\") # create a game instance using game[0] structure"
   ]
  },
  {
   "cell_type": "code",
   "execution_count": 1,
   "metadata": {},
   "outputs": [],
   "source": [
    "# prisoner's dilemma game\n",
    "games = [{\n",
    "    \"game_id\": \"g-1\",\n",
    "    \"name\": \"prisoner's dilemma\",\n",
    "    \"players\": [\"player1\", \"player2\"],\n",
    "    \"strategies\": [\n",
    "                ['C', 'D'],\n",
    "                ['C', 'D']\n",
    "            ],\n",
    "    \"payoff_matrix\": {\n",
    "            ('C', 'C'): (-1, -1),\n",
    "            ('C', 'D'): (-3, 0),\n",
    "            ('D', 'C'): (0, -3),\n",
    "            ('D', 'D'): (-2, -2)\n",
    "        }\n",
    "},\n",
    "# paper, scissors, rock game\n",
    "{\n",
    "    \"game_id\": \"g-2\",\n",
    "    \"name\": \"paper, scissors, rock\",\n",
    "    \"players\": [\"player1\", \"player2\"],\n",
    "    \"strategies\": [\n",
    "                ['paper', 'scissors', 'rock'],\n",
    "                ['paper', 'scissors', 'rock']\n",
    "            ],\n",
    "    \"payoff_matrix\": {\n",
    "            ('paper', 'paper'): (0, 0),\n",
    "            ('paper', 'scissors'): (-1, 1),\n",
    "            ('paper', 'rock'): (1, -1),\n",
    "            ('scissors', 'paper'): (1, -1),\n",
    "            ('scissors', 'scissors'): (0, 0),\n",
    "            ('scissors', 'rock'): (-1, 1),\n",
    "            ('rock', 'paper'): (-1, 1),\n",
    "            ('rock', 'scissors'): (1, -1),\n",
    "            ('rock', 'rock'): (0, 0)\n",
    "        }\n",
    "}]\n",
    "\n",
    "game_dict = {\"g-1\":1, \"g-2\":2}"
   ]
  },
  {
   "cell_type": "code",
   "execution_count": null,
   "metadata": {},
   "outputs": [],
   "source": [
    "import gamepy.gamemenu.menu as menu\n",
    "\n",
    "class Games:\n",
    "    games = menu.games\n",
    "    game_dict = menu.game_dict\n",
    "    def __init__(self, game_id):\n",
    "        self.game_id = game_id\n",
    "    def player(self, player_name):\n",
    "        return Player(player_name)"
   ]
  }
 ],
 "metadata": {
  "kernelspec": {
   "display_name": ".venv",
   "language": "python",
   "name": "python3"
  },
  "language_info": {
   "codemirror_mode": {
    "name": "ipython",
    "version": 3
   },
   "file_extension": ".py",
   "mimetype": "text/x-python",
   "name": "python",
   "nbconvert_exporter": "python",
   "pygments_lexer": "ipython3",
   "version": "3.11.5"
  }
 },
 "nbformat": 4,
 "nbformat_minor": 2
}
