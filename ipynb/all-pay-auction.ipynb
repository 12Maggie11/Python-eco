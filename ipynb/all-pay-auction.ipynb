{
 "cells": [
  {
   "cell_type": "code",
   "execution_count": 1,
   "metadata": {},
   "outputs": [],
   "source": [
    "class Player:\n",
    "    def __init__(self, name, strategies):\n",
    "        self.name = name \n",
    "        self.strategies = strategies\n",
    "        self.played_strategy = None\n",
    "    def play(self, played_strategy):\n",
    "        self.played_strategy = played_strategy\n",
    "\n",
    "class Game(Player):\n",
    "    def __init__(self, player1, player2):\n",
    "        self.player1 = player1\n",
    "        self.player2 = player2\n",
    "    def payoff(self):\n",
    "        strategy1 = self.player1.played_strategy\n",
    "        strategy2 = self.player2.played_strategy\n",
    "        \n",
    "        if strategy1 not in self.player1.strategies:\n",
    "            raise ValueError(\"Invalid strategy\")\n",
    "        elif strategy2 not in self.player2.strategies:\n",
    "            raise ValueError(\"Invalid strategy\")\n",
    "        elif strategy1 > strategy2:\n",
    "            result = ((20 - strategy1), (-strategy2))\n",
    "            return result\n",
    "        elif strategy1 < strategy2:\n",
    "            result = ((-strategy1), (20 - strategy2))\n",
    "            return result\n",
    "        elif strategy1 == strategy2:\n",
    "            result = ((10 - strategy1), (10 - strategy2))\n",
    "            return result\n",
    "        else:\n",
    "            return \"Error\""
   ]
  },
  {
   "cell_type": "code",
   "execution_count": 2,
   "metadata": {},
   "outputs": [],
   "source": [
    "player1_strategies = list(range(11)) # [0,1,2,3,4,5,6,7,8,9,10]\n",
    "player2_strategies = list(range(11)) # [0,1,2,3,4,5,6,7,8,9,10]\n",
    "\n",
    "player1 = Player(\"Alice\", player1_strategies)\n",
    "player2 = Player(\"Bob\", player2_strategies)\n",
    "\n",
    "game = Game(player1, player2)"
   ]
  },
  {
   "cell_type": "code",
   "execution_count": 3,
   "metadata": {},
   "outputs": [],
   "source": [
    "player1.play(7)"
   ]
  },
  {
   "cell_type": "code",
   "execution_count": 4,
   "metadata": {},
   "outputs": [],
   "source": [
    "player2.play(3)"
   ]
  },
  {
   "cell_type": "code",
   "execution_count": 5,
   "metadata": {},
   "outputs": [
    {
     "data": {
      "text/plain": [
       "7"
      ]
     },
     "execution_count": 5,
     "metadata": {},
     "output_type": "execute_result"
    }
   ],
   "source": [
    "player1.played_strategy"
   ]
  },
  {
   "cell_type": "code",
   "execution_count": 6,
   "metadata": {},
   "outputs": [
    {
     "data": {
      "text/plain": [
       "3"
      ]
     },
     "execution_count": 6,
     "metadata": {},
     "output_type": "execute_result"
    }
   ],
   "source": [
    "player2.played_strategy"
   ]
  },
  {
   "cell_type": "code",
   "execution_count": 7,
   "metadata": {},
   "outputs": [
    {
     "data": {
      "text/plain": [
       "(13, -3)"
      ]
     },
     "execution_count": 7,
     "metadata": {},
     "output_type": "execute_result"
    }
   ],
   "source": [
    "game.payoff()"
   ]
  }
 ],
 "metadata": {
  "kernelspec": {
   "display_name": ".venv",
   "language": "python",
   "name": "python3"
  },
  "language_info": {
   "codemirror_mode": {
    "name": "ipython",
    "version": 3
   },
   "file_extension": ".py",
   "mimetype": "text/x-python",
   "name": "python",
   "nbconvert_exporter": "python",
   "pygments_lexer": "ipython3",
   "version": "3.11.5"
  }
 },
 "nbformat": 4,
 "nbformat_minor": 2
}
