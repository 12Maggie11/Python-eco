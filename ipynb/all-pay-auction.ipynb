{
 "cells": [
  {
   "cell_type": "code",
   "execution_count": 1,
   "metadata": {},
   "outputs": [
    {
     "data": {
      "text/plain": [
       "('Player 2 WIN,', 'payoff equals', (0, 19))"
      ]
     },
     "execution_count": 1,
     "metadata": {},
     "output_type": "execute_result"
    }
   ],
   "source": [
    "def payoff(player1, player2):\n",
    "    if player1 and player2 not in range(0,11):\n",
    "        return \"請輸入數字 0~10\"\n",
    "    elif player1 == player2:\n",
    "        result = ((20/2) - player1, (20/2) - player2)\n",
    "        return \"In a tie,\", \"payoff equals\", result\n",
    "    elif player1 > player2:\n",
    "        result = ((20 - player1), (-player2))\n",
    "        return \"Player 1 WIN,\", \"payoff equals\", result\n",
    "    elif player1 < player2:\n",
    "        result = ((-player1), (20 - player2))\n",
    "        return \"Player 2 WIN,\", \"payoff equals\", result\n",
    "    else:\n",
    "        return \"請輸入數字 0~10\"\n",
    "    \n",
    "payoff(0,1)"
   ]
  },
  {
   "cell_type": "code",
   "execution_count": null,
   "metadata": {},
   "outputs": [],
   "source": [
    "class PLayer:\n",
    "    def __init__(self, name, strategies):\n",
    "        self.name = name \n",
    "        self.strategies = strategies\n",
    "        self.played_strategy = None\n",
    "    def play(self, played_strategy):\n",
    "        self.played_strategy = played_strategy\n",
    "\n",
    "class Game:\n",
    "    def __init__(self, player1, player2, payoff):\n",
    "        self.players = [player1, player2]\n",
    "        self.payoff = payoff\n",
    "\n",
    "\n",
    "# helper function \n",
    "def played_method(played_strategy):\n",
    "    Player.played_strategy = played_strategy"
   ]
  }
 ],
 "metadata": {
  "kernelspec": {
   "display_name": ".venv",
   "language": "python",
   "name": "python3"
  },
  "language_info": {
   "codemirror_mode": {
    "name": "ipython",
    "version": 3
   },
   "file_extension": ".py",
   "mimetype": "text/x-python",
   "name": "python",
   "nbconvert_exporter": "python",
   "pygments_lexer": "ipython3",
   "version": "3.11.5"
  }
 },
 "nbformat": 4,
 "nbformat_minor": 2
}
