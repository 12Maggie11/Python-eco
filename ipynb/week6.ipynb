{
 "cells": [
  {
   "cell_type": "code",
   "execution_count": null,
   "metadata": {},
   "outputs": [],
   "source": [
    "from IPython.core.interactiveshell import InteractiveShell\n",
    "InteractiveShell.ast_node_interactivity = \"all\""
   ]
  },
  {
   "cell_type": "code",
   "execution_count": null,
   "metadata": {},
   "outputs": [],
   "source": [
    "class Consumer_LogUtility:\n",
    "    def __init__(self, beta):\n",
    "        self.beta = beta\n",
    "    def foc_c(self, knext: float, w: float, R: float): # (23.6b)\n",
    "        \"\"\"\n",
    "        First order condition of the consumer's problem\n",
    "        (knext, w, R)\n",
    "        \"\"\"\n",
    "        return knext - (self.beta/(1+self.beta))*w\n",
    "\n",
    "class Producer_cobbDouglas:\n",
    "    def __init__(self, alpha):\n",
    "        self.alpha = alpha\n",
    "    def foc_l(self, k, w, l=1): # (23.9)\n",
    "        \"\"\" \n",
    "        FOC with respect to labor\n",
    "        (k, l, w)\n",
    "        \"\"\"\n",
    "        return (1-self.alpha)*(k/l)**self.alpha - w\n",
    "    def foc_k(self, k, R, l=1): # (23.9)\n",
    "        \"\"\"\n",
    "        FOC with respect to capital\n",
    "        (k, l, R)\n",
    "        \"\"\"\n",
    "        return self.alpha*(l/k)**(1-self.alpha) - R\n",
    "\n",
    "class OLGMarket:\n",
    "    def __init__(self, consumer, producer, k0):\n",
    "        self.consumer = consumer # composite 1\n",
    "        self.producer = producer # composite 2\n",
    "        self.k0 = k0\n",
    "        self.k = k0\n",
    "        self.equilibrium_dynamics = [[k0, None, None]]\n",
    "    def generate_onePeriod_equilibrium(self):\n",
    "        \"\"\"\n",
    "        return a tuple of (knext, w, R)\n",
    "        and track the dynamics in self.equilibrium_dynamics\n",
    "        \"\"\" # docstring: documentation string\n",
    "        \n",
    "        alpha = self.producer.alpha\n",
    "        beta = self.consumer.beta\n",
    "\n",
    "        w = (1-alpha)*self.k**alpha\n",
    "        R = alpha*(self.k)**(alpha-1)\n",
    "        knext = (beta/(1+beta))*w\n",
    "\n",
    "        # keep track of the dynamics\n",
    "        self.equilibrium_dynamics[len(self.equilibrium_dynamics)-1][1] = w\n",
    "        self.equilibrium_dynamics[len(self.equilibrium_dynamics)-1][2] = R\n",
    "        self.equilibrium_dynamics.append([knext, None, None])\n",
    "\n",
    "        # set the market time to the next period\n",
    "        self.k = knext\n",
    "        return (knext, w, R)\n",
    "    \n",
    "    def clear_equilibrium_dynamics(self):\n",
    "        self.equilibrium_dynamics = [[self.k0, None, None]]\n",
    "        self.k = self.k0"
   ]
  },
  {
   "cell_type": "code",
   "execution_count": 26,
   "metadata": {},
   "outputs": [
    {
     "name": "stdout",
     "output_type": "stream",
     "text": [
      "(1, 2, 3)\n",
      "Hi\n"
     ]
    }
   ],
   "source": [
    "def test(*args, epsilon):\n",
    "    print(args)\n",
    "    print(epsilon)\n",
    "\n",
    "test(1,2,3, epsilon=\"Hi\")"
   ]
  },
  {
   "cell_type": "code",
   "execution_count": 7,
   "metadata": {},
   "outputs": [
    {
     "data": {
      "text/plain": [
       "4.0"
      ]
     },
     "execution_count": 7,
     "metadata": {},
     "output_type": "execute_result"
    }
   ],
   "source": [
    "import numpy as np\n",
    "\n",
    "def CESUtility(*alpha, rho):\n",
    "    def ces(*x):\n",
    "        x = np.array(x)\n",
    "        return sum(x**(rho) * alpha)**(1/rho)\n",
    "    return ces\n",
    "\n",
    "u = CESUtility(0.3, 0.3, 0.4, rho=2)\n",
    "u(2,4,5)"
   ]
  },
  {
   "cell_type": "code",
   "execution_count": 24,
   "metadata": {},
   "outputs": [
    {
     "data": {
      "text/plain": [
       "4.0"
      ]
     },
     "execution_count": 24,
     "metadata": {},
     "output_type": "execute_result"
    }
   ],
   "source": [
    "import numpy as np\n",
    "def CESUtility(*alpha, rho):\n",
    "    def function(*X):\n",
    "        X=np.array(X)\n",
    "        result=sum(alpha*X**rho)**(1/rho) \n",
    "        return result\n",
    "    return function\n",
    "\n",
    "# example 1\n",
    "u = CESUtility(0.3, 0.3, 0.4, rho=2)\n",
    "u(2,4,5)"
   ]
  },
  {
   "cell_type": "code",
   "execution_count": 35,
   "metadata": {},
   "outputs": [],
   "source": [
    "# example 2\n",
    "u2 = CESUtility(0.2, 0.2, 0.3, 0.3, rho=2)\n",
    "u(1, 2, 2, 1)"
   ]
  },
  {
   "cell_type": "code",
   "execution_count": null,
   "metadata": {},
   "outputs": [],
   "source": [
    "for x in X:\n",
    "            value=(sum(a*x**(rho)))**(1/rho)\n",
    "        return value\n",
    "    return CESUtility(*X)"
   ]
  },
  {
   "cell_type": "markdown",
   "metadata": {},
   "source": [
    "# Exercise Simulate Supply Shock process"
   ]
  },
  {
   "cell_type": "code",
   "execution_count": 7,
   "metadata": {},
   "outputs": [
    {
     "data": {
      "text/plain": [
       "(array([[4.41176471],\n",
       "        [1.17647059]]),\n",
       " array([[50.        ],\n",
       "        [33.82352941]]))"
      ]
     },
     "execution_count": 7,
     "metadata": {},
     "output_type": "execute_result"
    }
   ],
   "source": [
    "import numpy as np\n",
    "from numpy.linalg import inv\n",
    "class Demand:\n",
    "    def __init__(self, D, h):\n",
    "        self.D=D\n",
    "        self.h=h\n",
    "    def quantity(self, pd):\n",
    "        qd=np.array((self.D@pd)+self.h)\n",
    "        return qd\n",
    "class Supply:\n",
    "    def __init__(self, C, e):\n",
    "        self.C=C\n",
    "        self.e=e\n",
    "    def quantity(self, ps):\n",
    "        qs=np.array((self.C@ps)+self.e)\n",
    "        return qs \n",
    "class Market:\n",
    "    def __init__(self, demand, supply):\n",
    "        self.demand=demand\n",
    "        self.supply=supply\n",
    "    def price(self):\n",
    "        pe=inv(self.supply.C-self.demand.D)@(self.demand.h-self.supply.e)\n",
    "        return pe\n",
    "    def quantity(self):\n",
    "        qe=self.demand.D@self.price()+self.demand.h\n",
    "        return qe\n",
    "    def equilibrium(self):\n",
    "        pe=self.price()\n",
    "        qe=self.quantity()\n",
    "        return pe, qe\n",
    "\n",
    "\n",
    "D=np.array([\n",
    "    [-10,-5],\n",
    "    [-1,-10]\n",
    "])\n",
    "h=np.array([\n",
    "    [100],\n",
    "    [50]\n",
    "])\n",
    "C=np.array([\n",
    "    [10,5],\n",
    "    [5,10]\n",
    "])\n",
    "e=np.array([\n",
    "    [0],\n",
    "    [0]\n",
    "])\n",
    "\n",
    "demand = Demand(D, h)\n",
    "supply = Supply(C, e)\n",
    "market = Market(demand, supply)\n",
    "\n",
    "\n",
    "market.equilibrium()"
   ]
  },
  {
   "cell_type": "code",
   "execution_count": 8,
   "metadata": {},
   "outputs": [
    {
     "data": {
      "text/plain": [
       "array([[ 0.14233471, -0.06489699],\n",
       "       [-0.20037413,  0.04725016],\n",
       "       [-0.02043197, -0.22825853],\n",
       "       [ 0.53088145,  0.28812104],\n",
       "       [ 0.01978045, -0.62430643],\n",
       "       [-0.21530433, -0.06513639],\n",
       "       [-0.20709958, -0.08526408],\n",
       "       [-0.20587228, -0.10435484],\n",
       "       [-0.08455151, -0.01984883],\n",
       "       [-0.2760516 ,  0.06038056]])"
      ]
     },
     "execution_count": 8,
     "metadata": {},
     "output_type": "execute_result"
    }
   ],
   "source": [
    "# create supply shocks\n",
    "import numpy as np\n",
    "np.random.seed(2023)\n",
    "\n",
    "epsilon = np.random.normal(0, 0.2, (10,2))\n",
    "\n",
    "epsilon"
   ]
  },
  {
   "cell_type": "code",
   "execution_count": 20,
   "metadata": {},
   "outputs": [],
   "source": [
    "# create supply shocks\n",
    "import numpy as np\n",
    "np.random.seed(2023)\n",
    "\n",
    "epsilon = np.random.normal(0, 0.2, (10,2))\n",
    "\n",
    "import numpy as np\n",
    "class AR:\n",
    "    def __init__(self, epsilon, E0):\n",
    "        self.epsilon = epsilon\n",
    "        self.E0 = np.array(E0)\n",
    "        self.memory = np.array([])\n",
    "        self.EPast = np.array(self.E0)\n",
    "    def simulate_nShocks(self, n=1):\n",
    "        simulate_nShocks(self, n)\n",
    "    def clear_memory(self):\n",
    "        self.memory = np.array([])\n",
    "\n",
    "# helpers\n",
    "\n",
    "def simulate_oneShock(ar):\n",
    "    # Simulate one shock of ar process\n",
    "    for e in range(n):\n",
    "        _ = market.supply.e\n",
    "        y_oneShock_ahead = market.equilibrium()\n",
    "\n",
    "    # Update EPast\n",
    "    ar.EPast = np.append(y_oneShock_ahead, ar.EPast[:-1])\n",
    "\n",
    "    ## append the new element to the memory\n",
    "    ar.memory = np.append(ar.memory, y_oneShock_ahead)\n",
    "\n",
    "def simulate_nShocks(ar, n):\n",
    "    eps = ar.epsilon(n)\n",
    "    for i in range(epsilon):\n",
    "        simulate_oneShock(ar, eps[i])\n",
    "\n",
    "ar=AR(epsilon=epsilon, E0=market.supply.e)"
   ]
  },
  {
   "cell_type": "code",
   "execution_count": 21,
   "metadata": {},
   "outputs": [
    {
     "ename": "NameError",
     "evalue": "name 'n' is not defined",
     "output_type": "error",
     "traceback": [
      "\u001b[1;31m---------------------------------------------------------------------------\u001b[0m",
      "\u001b[1;31mNameError\u001b[0m                                 Traceback (most recent call last)",
      "\u001b[1;32mc:\\Users\\Maggie\\Documents\\GitHub\\Python-eco\\ipynb\\week6.ipynb Cell 12\u001b[0m line \u001b[0;36m1\n\u001b[1;32m----> <a href='vscode-notebook-cell:/c%3A/Users/Maggie/Documents/GitHub/Python-eco/ipynb/week6.ipynb#X14sZmlsZQ%3D%3D?line=0'>1</a>\u001b[0m simulate_oneShock(ar)\n\u001b[0;32m      <a href='vscode-notebook-cell:/c%3A/Users/Maggie/Documents/GitHub/Python-eco/ipynb/week6.ipynb#X14sZmlsZQ%3D%3D?line=1'>2</a>\u001b[0m ar\u001b[39m.\u001b[39mmemory\n",
      "\u001b[1;32mc:\\Users\\Maggie\\Documents\\GitHub\\Python-eco\\ipynb\\week6.ipynb Cell 12\u001b[0m line \u001b[0;36m2\n\u001b[0;32m     <a href='vscode-notebook-cell:/c%3A/Users/Maggie/Documents/GitHub/Python-eco/ipynb/week6.ipynb#X14sZmlsZQ%3D%3D?line=20'>21</a>\u001b[0m \u001b[39mdef\u001b[39;00m \u001b[39msimulate_oneShock\u001b[39m(ar):\n\u001b[0;32m     <a href='vscode-notebook-cell:/c%3A/Users/Maggie/Documents/GitHub/Python-eco/ipynb/week6.ipynb#X14sZmlsZQ%3D%3D?line=21'>22</a>\u001b[0m     \u001b[39m# Simulate one shock of ar process\u001b[39;00m\n\u001b[1;32m---> <a href='vscode-notebook-cell:/c%3A/Users/Maggie/Documents/GitHub/Python-eco/ipynb/week6.ipynb#X14sZmlsZQ%3D%3D?line=22'>23</a>\u001b[0m     \u001b[39mfor\u001b[39;00m e \u001b[39min\u001b[39;00m \u001b[39mrange\u001b[39m(n):\n\u001b[0;32m     <a href='vscode-notebook-cell:/c%3A/Users/Maggie/Documents/GitHub/Python-eco/ipynb/week6.ipynb#X14sZmlsZQ%3D%3D?line=23'>24</a>\u001b[0m         _ \u001b[39m=\u001b[39m market\u001b[39m.\u001b[39msupply\u001b[39m.\u001b[39me\n\u001b[0;32m     <a href='vscode-notebook-cell:/c%3A/Users/Maggie/Documents/GitHub/Python-eco/ipynb/week6.ipynb#X14sZmlsZQ%3D%3D?line=24'>25</a>\u001b[0m         y_oneShock_ahead \u001b[39m=\u001b[39m market\u001b[39m.\u001b[39mequilibrium()\n",
      "\u001b[1;31mNameError\u001b[0m: name 'n' is not defined"
     ]
    }
   ],
   "source": [
    "simulate_oneShock(ar)\n",
    "ar.memory"
   ]
  },
  {
   "cell_type": "code",
   "execution_count": 30,
   "metadata": {},
   "outputs": [
    {
     "ename": "TypeError",
     "evalue": "'numpy.ndarray' object is not callable",
     "output_type": "error",
     "traceback": [
      "\u001b[1;31m---------------------------------------------------------------------------\u001b[0m",
      "\u001b[1;31mTypeError\u001b[0m                                 Traceback (most recent call last)",
      "\u001b[1;32mc:\\Users\\Maggie\\Documents\\GitHub\\Python-eco\\ipynb\\week6.ipynb Cell 13\u001b[0m line \u001b[0;36m1\n\u001b[1;32m----> <a href='vscode-notebook-cell:/c%3A/Users/Maggie/Documents/GitHub/Python-eco/ipynb/week6.ipynb#X16sZmlsZQ%3D%3D?line=0'>1</a>\u001b[0m simulate_nShocks(ar, \u001b[39m10\u001b[39;49m)\n",
      "\u001b[1;32mc:\\Users\\Maggie\\Documents\\GitHub\\Python-eco\\ipynb\\week6.ipynb Cell 13\u001b[0m line \u001b[0;36m3\n\u001b[0;32m     <a href='vscode-notebook-cell:/c%3A/Users/Maggie/Documents/GitHub/Python-eco/ipynb/week6.ipynb#X16sZmlsZQ%3D%3D?line=32'>33</a>\u001b[0m \u001b[39mdef\u001b[39;00m \u001b[39msimulate_nShocks\u001b[39m(ar, n):\n\u001b[1;32m---> <a href='vscode-notebook-cell:/c%3A/Users/Maggie/Documents/GitHub/Python-eco/ipynb/week6.ipynb#X16sZmlsZQ%3D%3D?line=33'>34</a>\u001b[0m     eps \u001b[39m=\u001b[39m ar\u001b[39m.\u001b[39;49mepsilon(n)\n\u001b[0;32m     <a href='vscode-notebook-cell:/c%3A/Users/Maggie/Documents/GitHub/Python-eco/ipynb/week6.ipynb#X16sZmlsZQ%3D%3D?line=34'>35</a>\u001b[0m     \u001b[39mfor\u001b[39;00m i \u001b[39min\u001b[39;00m \u001b[39mrange\u001b[39m(n):\n\u001b[0;32m     <a href='vscode-notebook-cell:/c%3A/Users/Maggie/Documents/GitHub/Python-eco/ipynb/week6.ipynb#X16sZmlsZQ%3D%3D?line=35'>36</a>\u001b[0m         simulate_oneShock(ar, eps[i])\n",
      "\u001b[1;31mTypeError\u001b[0m: 'numpy.ndarray' object is not callable"
     ]
    }
   ],
   "source": [
    "simulate_nShocks(ar, 10)"
   ]
  },
  {
   "cell_type": "code",
   "execution_count": null,
   "metadata": {},
   "outputs": [],
   "source": [
    "import numpy as np\n",
    "\n",
    "def Epsilon(mu, sigma):\n",
    "    def draw(size):\n",
    "        return np.random.normal(mu, sigma, size)\n",
    "    return draw\n",
    "epsilon = Epsilon(0, 1)    \n",
    "enew=epsilon(10)\n",
    "print(enew)"
   ]
  }
 ],
 "metadata": {
  "kernelspec": {
   "display_name": ".venv",
   "language": "python",
   "name": "python3"
  },
  "language_info": {
   "codemirror_mode": {
    "name": "ipython",
    "version": 3
   },
   "file_extension": ".py",
   "mimetype": "text/x-python",
   "name": "python",
   "nbconvert_exporter": "python",
   "pygments_lexer": "ipython3",
   "version": "3.11.5"
  }
 },
 "nbformat": 4,
 "nbformat_minor": 2
}
