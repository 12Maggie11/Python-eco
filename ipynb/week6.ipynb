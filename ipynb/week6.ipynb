{
 "cells": [
  {
   "cell_type": "code",
   "execution_count": null,
   "metadata": {},
   "outputs": [],
   "source": [
    "from IPython.core.interactiveshell import InteractiveShell\n",
    "InteractiveShell.ast_node_interactivity = \"all\""
   ]
  },
  {
   "cell_type": "code",
   "execution_count": null,
   "metadata": {},
   "outputs": [],
   "source": [
    "class Consumer_LogUtility:\n",
    "    def __init__(self, beta):\n",
    "        self.beta = beta\n",
    "    def foc_c(self, knext: float, w: float, R: float): # (23.6b)\n",
    "        \"\"\"\n",
    "        First order condition of the consumer's problem\n",
    "        (knext, w, R)\n",
    "        \"\"\"\n",
    "        return knext - (self.beta/(1+self.beta))*w\n",
    "\n",
    "class Producer_cobbDouglas:\n",
    "    def __init__(self, alpha):\n",
    "        self.alpha = alpha\n",
    "    def foc_l(self, k, w, l=1): # (23.9)\n",
    "        \"\"\" \n",
    "        FOC with respect to labor\n",
    "        (k, l, w)\n",
    "        \"\"\"\n",
    "        return (1-self.alpha)*(k/l)**self.alpha - w\n",
    "    def foc_k(self, k, R, l=1): # (23.9)\n",
    "        \"\"\"\n",
    "        FOC with respect to capital\n",
    "        (k, l, R)\n",
    "        \"\"\"\n",
    "        return self.alpha*(l/k)**(1-self.alpha) - R\n",
    "\n",
    "class OLGMarket:\n",
    "    def __init__(self, consumer, producer, k0):\n",
    "        self.consumer = consumer # composite 1\n",
    "        self.producer = producer # composite 2\n",
    "        self.k0 = k0\n",
    "        self.k = k0\n",
    "        self.equilibrium_dynamics = [[k0, None, None]]\n",
    "    def generate_onePeriod_equilibrium(self):\n",
    "        \"\"\"\n",
    "        return a tuple of (knext, w, R)\n",
    "        and track the dynamics in self.equilibrium_dynamics\n",
    "        \"\"\" # docstring: documentation string\n",
    "        \n",
    "        alpha = self.producer.alpha\n",
    "        beta = self.consumer.beta\n",
    "\n",
    "        w = (1-alpha)*self.k**alpha\n",
    "        R = alpha*(self.k)**(alpha-1)\n",
    "        knext = (beta/(1+beta))*w\n",
    "\n",
    "        # keep track of the dynamics\n",
    "        self.equilibrium_dynamics[len(self.equilibrium_dynamics)-1][1] = w\n",
    "        self.equilibrium_dynamics[len(self.equilibrium_dynamics)-1][2] = R\n",
    "        self.equilibrium_dynamics.append([knext, None, None])\n",
    "\n",
    "        # set the market time to the next period\n",
    "        self.k = knext\n",
    "        return (knext, w, R)\n",
    "    \n",
    "    def clear_equilibrium_dynamics(self):\n",
    "        self.equilibrium_dynamics = [[self.k0, None, None]]\n",
    "        self.k = self.k0"
   ]
  },
  {
   "cell_type": "code",
   "execution_count": 7,
   "metadata": {},
   "outputs": [
    {
     "ename": "TypeError",
     "evalue": "bad operand type for unary -: 'tuple'",
     "output_type": "error",
     "traceback": [
      "\u001b[1;31m---------------------------------------------------------------------------\u001b[0m",
      "\u001b[1;31mTypeError\u001b[0m                                 Traceback (most recent call last)",
      "\u001b[1;32mc:\\Users\\Maggie\\Documents\\GitHub\\Python-eco\\ipynb\\week6.ipynb Cell 3\u001b[0m line \u001b[0;36m9\n\u001b[0;32m      <a href='vscode-notebook-cell:/c%3A/Users/Maggie/Documents/GitHub/Python-eco/ipynb/week6.ipynb#W2sZmlsZQ%3D%3D?line=6'>7</a>\u001b[0m \u001b[39m# example 1\u001b[39;00m\n\u001b[0;32m      <a href='vscode-notebook-cell:/c%3A/Users/Maggie/Documents/GitHub/Python-eco/ipynb/week6.ipynb#W2sZmlsZQ%3D%3D?line=7'>8</a>\u001b[0m u \u001b[39m=\u001b[39m CESUtility(\u001b[39m0.3\u001b[39m, \u001b[39m0.3\u001b[39m, \u001b[39m0.4\u001b[39m, alpha\u001b[39m=\u001b[39m\u001b[39m2\u001b[39m)\n\u001b[1;32m----> <a href='vscode-notebook-cell:/c%3A/Users/Maggie/Documents/GitHub/Python-eco/ipynb/week6.ipynb#W2sZmlsZQ%3D%3D?line=8'>9</a>\u001b[0m u(\u001b[39m2\u001b[39;49m, \u001b[39m4\u001b[39;49m, \u001b[39m5\u001b[39;49m)\n\u001b[0;32m     <a href='vscode-notebook-cell:/c%3A/Users/Maggie/Documents/GitHub/Python-eco/ipynb/week6.ipynb#W2sZmlsZQ%3D%3D?line=10'>11</a>\u001b[0m \u001b[39m# example 2\u001b[39;00m\n\u001b[0;32m     <a href='vscode-notebook-cell:/c%3A/Users/Maggie/Documents/GitHub/Python-eco/ipynb/week6.ipynb#W2sZmlsZQ%3D%3D?line=11'>12</a>\u001b[0m u2 \u001b[39m=\u001b[39m CESUtility(\u001b[39m0.2\u001b[39m, \u001b[39m0.2\u001b[39m, \u001b[39m0.3\u001b[39m, \u001b[39m0.3\u001b[39m, alpha\u001b[39m=\u001b[39m\u001b[39m2\u001b[39m)\n",
      "\u001b[1;32mc:\\Users\\Maggie\\Documents\\GitHub\\Python-eco\\ipynb\\week6.ipynb Cell 3\u001b[0m line \u001b[0;36m3\n\u001b[0;32m      <a href='vscode-notebook-cell:/c%3A/Users/Maggie/Documents/GitHub/Python-eco/ipynb/week6.ipynb#W2sZmlsZQ%3D%3D?line=1'>2</a>\u001b[0m \u001b[39mdef\u001b[39;00m \u001b[39mutility\u001b[39m(\u001b[39m*\u001b[39mx):\n\u001b[1;32m----> <a href='vscode-notebook-cell:/c%3A/Users/Maggie/Documents/GitHub/Python-eco/ipynb/week6.ipynb#W2sZmlsZQ%3D%3D?line=2'>3</a>\u001b[0m     result\u001b[39m=\u001b[39malpha\u001b[39m*\u001b[39mx\u001b[39m*\u001b[39m\u001b[39m*\u001b[39m(\u001b[39m-\u001b[39;49msigma)\n\u001b[0;32m      <a href='vscode-notebook-cell:/c%3A/Users/Maggie/Documents/GitHub/Python-eco/ipynb/week6.ipynb#W2sZmlsZQ%3D%3D?line=3'>4</a>\u001b[0m     \u001b[39mreturn\u001b[39;00m (result\u001b[39m.\u001b[39msum())\u001b[39m*\u001b[39m\u001b[39m*\u001b[39m((\u001b[39m-\u001b[39m\u001b[39m1\u001b[39m)\u001b[39m/\u001b[39msigma)\n",
      "\u001b[1;31mTypeError\u001b[0m: bad operand type for unary -: 'tuple'"
     ]
    }
   ],
   "source": [
    "\n",
    "def CESUtility(*sigma, alpha):\n",
    "    def utility(*x):\n",
    "        result=alpha*x**(-sigma)\n",
    "        return (result.sum())**((-1)/sigma)\n",
    "    return utility\n",
    "    \n",
    "# example 1\n",
    "u = CESUtility(0.3, 0.3, 0.4, alpha=2)\n",
    "u(2, 4, 5)\n",
    "\n",
    "# example 2\n",
    "u2 = CESUtility(0.2, 0.2, 0.3, 0.3, alpha=2)\n",
    "u(1, 2, 2, 1)"
   ]
  }
 ],
 "metadata": {
  "kernelspec": {
   "display_name": ".venv",
   "language": "python",
   "name": "python3"
  },
  "language_info": {
   "codemirror_mode": {
    "name": "ipython",
    "version": 3
   },
   "file_extension": ".py",
   "mimetype": "text/x-python",
   "name": "python",
   "nbconvert_exporter": "python",
   "pygments_lexer": "ipython3",
   "version": "3.11.5"
  }
 },
 "nbformat": 4,
 "nbformat_minor": 2
}
