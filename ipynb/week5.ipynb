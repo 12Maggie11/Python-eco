{
 "cells": [
  {
   "cell_type": "code",
   "execution_count": 2,
   "metadata": {},
   "outputs": [
    {
     "data": {
      "text/plain": [
       "array([1, 4, 9])"
      ]
     },
     "execution_count": 2,
     "metadata": {},
     "output_type": "execute_result"
    }
   ],
   "source": [
    "import numpy as np\n",
    "def fun(x: np.ndarray):\n",
    "    return x**2\n",
    "\n",
    "fun(np.array([1,2,3]))"
   ]
  },
  {
   "cell_type": "code",
   "execution_count": 8,
   "metadata": {},
   "outputs": [
    {
     "data": {
      "text/plain": [
       "(array([[4.41176471],\n",
       "        [1.17647059]]),\n",
       " array([[50.        ],\n",
       "        [33.82352941]]))"
      ]
     },
     "execution_count": 8,
     "metadata": {},
     "output_type": "execute_result"
    }
   ],
   "source": [
    "# 有shock發生時\n",
    "import numpy as np\n",
    "from numpy.linalg import inv\n",
    "class Demand:\n",
    "    def __init__(self, D, h):\n",
    "        self.D=D()\n",
    "        self.h=h\n",
    "    def quantity(self, pd):\n",
    "        qd=np.array((self.D@pd)+self.h)\n",
    "        return qd\n",
    "class Supply:\n",
    "    def __init__(self, C, e):\n",
    "        self.C=C\n",
    "        self.e=e\n",
    "    def quantity(self, ps):\n",
    "        qs=np.array((self.C@ps)+self.e)\n",
    "        return qs \n",
    "class Market:\n",
    "    def __init__(self, demand, supply):\n",
    "        self.demand=demand\n",
    "        self.supply=supply\n",
    "    def price(self):\n",
    "        pe=inv(self.supply.C-self.demand.D)@(self.demand.h-self.supply.e)\n",
    "        return pe\n",
    "    def quantity(self):\n",
    "        qe=self.demand.D@self.price()+self.demand.h\n",
    "        return qe\n",
    "    def equlibrium(self):\n",
    "        pe=self.price()\n",
    "        qe=self.quantity()\n",
    "        return pe, qe\n",
    "\n",
    "D=np.array([\n",
    "    [-10,-5],\n",
    "    [-1,-10]\n",
    "])\n",
    "h=np.array([\n",
    "    [100],\n",
    "    [50]\n",
    "])\n",
    "C=np.array([\n",
    "    [10,5],\n",
    "    [5,10]\n",
    "])\n",
    "e=np.array([\n",
    "    [0],\n",
    "    [0]\n",
    "])\n",
    "\n",
    "demand = Demand(D, h)\n",
    "supply = Supply(C, e)\n",
    "market = Market(demand, supply)\n",
    "\n",
    "market.equlibrium()"
   ]
  },
  {
   "cell_type": "code",
   "execution_count": 1,
   "metadata": {},
   "outputs": [
    {
     "data": {
      "text/plain": [
       "(array([[4.41176471],\n",
       "        [1.17647059]]),\n",
       " array([[50.        ],\n",
       "        [33.82352941]]))"
      ]
     },
     "execution_count": 1,
     "metadata": {},
     "output_type": "execute_result"
    }
   ],
   "source": [
    "# 有shock發生時\n",
    "import numpy as np\n",
    "from numpy.linalg import inv\n",
    "class Demand:\n",
    "    def __init__(self, D, h):\n",
    "        self.D=D\n",
    "        self.h=h\n",
    "    def quantity(self, pd):\n",
    "        qd=np.array((self.D@pd)+self.h)\n",
    "        return qd\n",
    "class Supply:\n",
    "    def __init__(self, C, e):\n",
    "        self.C=C\n",
    "        self.e=e\n",
    "    def quantity(self, ps):\n",
    "        qs=np.array((self.C@ps)+self.e)\n",
    "        return qs \n",
    "class Market:\n",
    "    def __init__(self, demand, supply):\n",
    "        self.demand=demand\n",
    "        self.supply=supply\n",
    "    def price(self):\n",
    "        D=self.demand.D\n",
    "        h=self.demand.h\n",
    "        C=self.supply.C\n",
    "        e=self.supply.e\n",
    "        pe=inv(C-D)@(h-e)\n",
    "        return pe\n",
    "    def quantity(self):\n",
    "        D=self.demand.D\n",
    "        h=self.demand.h\n",
    "        qe=D@self.price()+h\n",
    "        return qe\n",
    "    def equilibrium(self):\n",
    "        pe=self.price()\n",
    "        qe=self.quantity()\n",
    "        return pe, qe\n",
    "\n",
    "D=np.array([\n",
    "    [-10,-5],\n",
    "    [-1,-10]\n",
    "])\n",
    "h=np.array([\n",
    "    [100],\n",
    "    [50]\n",
    "])\n",
    "C=np.array([\n",
    "    [10,5],\n",
    "    [5,10]\n",
    "])\n",
    "e=np.array([\n",
    "    [0],\n",
    "    [0]\n",
    "])\n",
    "\n",
    "demand = Demand(D, h)\n",
    "supply = Supply(C, e)\n",
    "market = Market(demand, supply)\n",
    "\n",
    "market.equilibrium()"
   ]
  },
  {
   "cell_type": "code",
   "execution_count": 2,
   "metadata": {},
   "outputs": [
    {
     "data": {
      "text/plain": [
       "(array([[3.23529412],\n",
       "        [1.52941176]]),\n",
       " array([[40.        ],\n",
       "        [31.47058824]]))"
      ]
     },
     "execution_count": 2,
     "metadata": {},
     "output_type": "execute_result"
    }
   ],
   "source": [
    "# 改變參數\n",
    "demand.h = np.array([[80],[50]])\n",
    "market.equilibrium()"
   ]
  },
  {
   "cell_type": "code",
   "execution_count": 14,
   "metadata": {},
   "outputs": [],
   "source": [
    "import numpy as np\n",
    "from numpy.linalg import inv\n",
    "class Demand:\n",
    "    def __init__(self, D, h):\n",
    "        self.D=D\n",
    "        self.h=h\n",
    "    def quantity(self, pd):\n",
    "        qd=np.array((self.D@pd)+self.h)\n",
    "        return qd\n",
    "class Supply:\n",
    "    def __init__(self, C, e0):\n",
    "        self.C=C\n",
    "        self.e0=e0\n",
    "    def quantity(self, ps):\n",
    "        qs=np.array((self.C@ps)+self.e0)\n",
    "        return qs\n",
    "class DynamicMarket:\n",
    "    def __init__(self, demand, supply, e0:np.ndarray):\n",
    "        self.demand = demand\n",
    "        self.supply = supply\n",
    "        self.e0 = e0\n",
    "        self.newe = e0\n",
    "        self.p=inv(self.supply.C-self.demand.D)@(self.demand.h-e0)\n",
    "        self.q=self.demand.D@self.p+self.demand.h\n",
    "        self.equilibrium_dynamics = [[e0, self.p, self.q]]\n",
    "    def price(self):\n",
    "        D=self.demand.D\n",
    "        h=self.demand.h\n",
    "        C=self.supply.C\n",
    "        e0=self.supply.e0\n",
    "        pe=inv(C-D)@(h-e0)\n",
    "        return pe\n",
    "    def quantity(self):\n",
    "        D=self.demand.D\n",
    "        h=self.demand.h\n",
    "        qe=D@self.price()+h\n",
    "        return qe\n",
    "    def equilibrium(self):\n",
    "        pe=self.price()\n",
    "        qe=self.quantity()\n",
    "        return pe, qe\n",
    "    def generate_onePeriod_equilibrium(self):\n",
    "        \"\"\"\n",
    "        return a tuple of (e, p, q)\n",
    "        and track the dynamics in self.equilibrium_dynamics\n",
    "        \"\"\"\n",
    "        epsilon = self.supply_shock(0, 0.4)\n",
    "        data=np.array(epsilon(2))\n",
    "        newe=data.reshape(2,1)\n",
    "\n",
    "        newp=inv(self.supply.C-self.demand.D)@(self.demand.h-self.newe)\n",
    "        newq=self.demand.D@newp+self.demand.h\n",
    "        \n",
    "        # keep track of the dynamics\n",
    "        self.equilibrium_dynamics[len(self.equilibrium_dynamics)-1][0] = newe\n",
    "        self.equilibrium_dynamics[len(self.equilibrium_dynamics)-1][1] = newp\n",
    "        self.equilibrium_dynamics[len(self.equilibrium_dynamics)-1][2] = newq\n",
    "        self.equilibrium_dynamics.append([newe, newp, newq])\n",
    "\n",
    "        # set the market time to the next period \n",
    "        self.newe = newe \n",
    "        return (newe, newp, newq)\n",
    "    def supply_shock(self, mu, sigma):\n",
    "        def draw(size):\n",
    "            return np.random.normal(mu, sigma, size)\n",
    "        return draw"
   ]
  },
  {
   "cell_type": "code",
   "execution_count": 15,
   "metadata": {},
   "outputs": [],
   "source": [
    "D=np.array([\n",
    "    [-10,-5],\n",
    "    [-1,-10]\n",
    "])\n",
    "h=np.array([\n",
    "    [100],\n",
    "    [50]\n",
    "])\n",
    "C=np.array([\n",
    "    [10,5],\n",
    "    [5,10]\n",
    "])\n",
    "e0=np.array([\n",
    "    [0],\n",
    "    [0]\n",
    "])\n",
    "\n",
    "\n",
    "demand = Demand(D, h)\n",
    "supply = Supply(C, e0)\n",
    "market = DynamicMarket(demand, supply, e0)"
   ]
  },
  {
   "cell_type": "code",
   "execution_count": 20,
   "metadata": {},
   "outputs": [
    {
     "data": {
      "text/plain": [
       "(array([[0],\n",
       "        [0]]),\n",
       " [[array([[-0.10276874],\n",
       "          [ 0.35819541]]),\n",
       "   array([[4.41176471],\n",
       "          [1.17647059]]),\n",
       "   array([[50.        ],\n",
       "          [33.82352941]])],\n",
       "  [array([[-0.39383363],\n",
       "          [-0.11586857]]),\n",
       "   array([[4.42834508],\n",
       "          [1.1535867 ]]),\n",
       "   array([[49.94861563],\n",
       "          [34.03578788]])],\n",
       "  [array([[ 0.2028407],\n",
       "          [-0.4753472]]),\n",
       "   array([[4.43152349],\n",
       "          [1.17633638]]),\n",
       "   array([[49.80308318],\n",
       "          [33.8051127 ]])],\n",
       "  [array([[ 0.92060574],\n",
       "          [-0.13669469]]),\n",
       "   array([[4.3858521 ],\n",
       "          [1.20801173]]),\n",
       "   array([[50.10142035],\n",
       "          [33.5340306 ]])],\n",
       "  [array([[ 0.18556011],\n",
       "          [-0.37722704]]),\n",
       "   array([[4.353591  ],\n",
       "          [1.20075744]]),\n",
       "   array([[50.46030287],\n",
       "          [33.63883465]])],\n",
       "  [array([[-0.08558338],\n",
       "          [ 0.00327969]]),\n",
       "   array([[4.38975449],\n",
       "          [1.201935  ]]),\n",
       "   array([[50.09278006],\n",
       "          [33.59089546]])],\n",
       "  [array([[-0.00171745],\n",
       "          [ 0.48255253]]),\n",
       "   array([[4.41689548],\n",
       "          [1.17476737]]),\n",
       "   array([[49.95720831],\n",
       "          [33.83543081]])],\n",
       "  [array([[-0.55820169],\n",
       "          [-0.18214638]]),\n",
       "   array([[4.42605845],\n",
       "          [1.14805484]]),\n",
       "   array([[49.99914127],\n",
       "          [34.09339317]])],\n",
       "  [array([[-0.89404179],\n",
       "          [ 0.21749075]]),\n",
       "   array([[4.43924285],\n",
       "          [1.17733446]]),\n",
       "   array([[49.72089915],\n",
       "          [33.78741251]])],\n",
       "  [array([[0.08529601],\n",
       "          [0.80912274]]),\n",
       "   array([[4.47075219],\n",
       "          [1.14789981]]),\n",
       "   array([[49.5529791 ],\n",
       "          [34.05024975]])],\n",
       "  [array([[0.08529601],\n",
       "          [0.80912274]]),\n",
       "   array([[4.47075219],\n",
       "          [1.14789981]]),\n",
       "   array([[49.5529791 ],\n",
       "          [34.05024975]])]])"
      ]
     },
     "execution_count": 20,
     "metadata": {},
     "output_type": "execute_result"
    }
   ],
   "source": [
    "# initial state \n",
    "market.e0, market.equilibrium_dynamics"
   ]
  },
  {
   "cell_type": "code",
   "execution_count": 21,
   "metadata": {},
   "outputs": [
    {
     "data": {
      "text/plain": [
       "(array([[-0.10448903],\n",
       "        [ 0.24772028]]),\n",
       " array([[4.43054502],\n",
       "        [1.13038036]]),\n",
       " array([[50.042648  ],\n",
       "        [34.26565141]]))"
      ]
     },
     "execution_count": 21,
     "metadata": {},
     "output_type": "execute_result"
    }
   ],
   "source": [
    "market.generate_onePeriod_equilibrium()"
   ]
  },
  {
   "cell_type": "code",
   "execution_count": 22,
   "metadata": {},
   "outputs": [
    {
     "data": {
      "text/plain": [
       "[[array([[-0.10276874],\n",
       "         [ 0.35819541]]),\n",
       "  array([[4.41176471],\n",
       "         [1.17647059]]),\n",
       "  array([[50.        ],\n",
       "         [33.82352941]])],\n",
       " [array([[-0.39383363],\n",
       "         [-0.11586857]]),\n",
       "  array([[4.42834508],\n",
       "         [1.1535867 ]]),\n",
       "  array([[49.94861563],\n",
       "         [34.03578788]])],\n",
       " [array([[ 0.2028407],\n",
       "         [-0.4753472]]),\n",
       "  array([[4.43152349],\n",
       "         [1.17633638]]),\n",
       "  array([[49.80308318],\n",
       "         [33.8051127 ]])],\n",
       " [array([[ 0.92060574],\n",
       "         [-0.13669469]]),\n",
       "  array([[4.3858521 ],\n",
       "         [1.20801173]]),\n",
       "  array([[50.10142035],\n",
       "         [33.5340306 ]])],\n",
       " [array([[ 0.18556011],\n",
       "         [-0.37722704]]),\n",
       "  array([[4.353591  ],\n",
       "         [1.20075744]]),\n",
       "  array([[50.46030287],\n",
       "         [33.63883465]])],\n",
       " [array([[-0.08558338],\n",
       "         [ 0.00327969]]),\n",
       "  array([[4.38975449],\n",
       "         [1.201935  ]]),\n",
       "  array([[50.09278006],\n",
       "         [33.59089546]])],\n",
       " [array([[-0.00171745],\n",
       "         [ 0.48255253]]),\n",
       "  array([[4.41689548],\n",
       "         [1.17476737]]),\n",
       "  array([[49.95720831],\n",
       "         [33.83543081]])],\n",
       " [array([[-0.55820169],\n",
       "         [-0.18214638]]),\n",
       "  array([[4.42605845],\n",
       "         [1.14805484]]),\n",
       "  array([[49.99914127],\n",
       "         [34.09339317]])],\n",
       " [array([[-0.89404179],\n",
       "         [ 0.21749075]]),\n",
       "  array([[4.43924285],\n",
       "         [1.17733446]]),\n",
       "  array([[49.72089915],\n",
       "         [33.78741251]])],\n",
       " [array([[0.08529601],\n",
       "         [0.80912274]]),\n",
       "  array([[4.47075219],\n",
       "         [1.14789981]]),\n",
       "  array([[49.5529791 ],\n",
       "         [34.05024975]])],\n",
       " [array([[-0.10448903],\n",
       "         [ 0.24772028]]),\n",
       "  array([[4.43054502],\n",
       "         [1.13038036]]),\n",
       "  array([[50.042648  ],\n",
       "         [34.26565141]])],\n",
       " [array([[-0.1747939 ],\n",
       "         [-0.57934585]]),\n",
       "  array([[4.42519701],\n",
       "         [1.16005488]]),\n",
       "  array([[49.94775548],\n",
       "         [33.97425416]])],\n",
       " [array([[0.44226471],\n",
       "         [0.22470641]]),\n",
       "  array([[4.40500712],\n",
       "         [1.20746516]]),\n",
       "  array([[49.91260305],\n",
       "         [33.52034131]])],\n",
       " [array([[-0.29536361],\n",
       "         [ 0.09876942]]),\n",
       "  array([[4.39235815],\n",
       "         [1.17105724]]),\n",
       "  array([[50.22113236],\n",
       "         [33.8970695 ]])],\n",
       " [array([[-0.29536361],\n",
       "         [ 0.09876942]]),\n",
       "  array([[4.39235815],\n",
       "         [1.17105724]]),\n",
       "  array([[50.22113236],\n",
       "         [33.8970695 ]])]]"
      ]
     },
     "execution_count": 22,
     "metadata": {},
     "output_type": "execute_result"
    }
   ],
   "source": [
    "# simulate the dynamics for 10 periods\n",
    "for t in range(3):\n",
    "    _ = market.generate_onePeriod_equilibrium()\n",
    "\n",
    "market.equilibrium_dynamics"
   ]
  },
  {
   "cell_type": "code",
   "execution_count": 31,
   "metadata": {},
   "outputs": [],
   "source": [
    "# Exercise AR(1) process\n",
    "import numpy as np\n",
    "class AR1:\n",
    "    def __init__(self, rho, x0):\n",
    "        self.rho = rho\n",
    "        self.x0 = x0\n",
    "        self.x = x0\n",
    "        self.simulated_dynamics = [[x0]]\n",
    "    def simulate_onePeriod(self):\n",
    "        \"\"\"\n",
    "        return a tuple of (xnext)\n",
    "        and track the dynamics in self.simulate_dynamics\n",
    "        \"\"\" \n",
    "        sigma = 0.2\n",
    "        epsilon = np.random.normal(0, sigma, 1)\n",
    "        \n",
    "        xnext = self.rho*self.x+epsilon\n",
    "\n",
    "        # keep track of the dynamics\n",
    "        self.simulated_dynamics.append([xnext])\n",
    "\n",
    "        # set the market time to the next period\n",
    "        self.x = xnext\n",
    "        return (xnext)"
   ]
  },
  {
   "cell_type": "code",
   "execution_count": 32,
   "metadata": {},
   "outputs": [
    {
     "data": {
      "text/plain": [
       "array([-0.20340062])"
      ]
     },
     "execution_count": 32,
     "metadata": {},
     "output_type": "execute_result"
    }
   ],
   "source": [
    "ar1=AR1(rho=0.9, x0=0.1)\n",
    "ar1.simulate_onePeriod()"
   ]
  },
  {
   "cell_type": "code",
   "execution_count": 33,
   "metadata": {},
   "outputs": [
    {
     "data": {
      "text/plain": [
       "[[0.1],\n",
       " [array([-0.20340062])],\n",
       " [array([0.01624787])],\n",
       " [array([-0.29801737])],\n",
       " [array([-0.22693158])],\n",
       " [array([-0.13716362])],\n",
       " [array([-0.40536743])],\n",
       " [array([-0.26254683])],\n",
       " [array([0.03268552])],\n",
       " [array([0.11150864])],\n",
       " [array([0.1174883])],\n",
       " [array([0.13105394])]]"
      ]
     },
     "execution_count": 33,
     "metadata": {},
     "output_type": "execute_result"
    }
   ],
   "source": [
    "# simulate the dynamics for 10 periods\n",
    "for t in range(10):\n",
    "    _ = ar1.simulate_onePeriod()\n",
    "\n",
    "ar1.simulated_dynamics"
   ]
  }
 ],
 "metadata": {
  "kernelspec": {
   "display_name": ".venv",
   "language": "python",
   "name": "python3"
  },
  "language_info": {
   "codemirror_mode": {
    "name": "ipython",
    "version": 3
   },
   "file_extension": ".py",
   "mimetype": "text/x-python",
   "name": "python",
   "nbconvert_exporter": "python",
   "pygments_lexer": "ipython3",
   "version": "3.11.5"
  }
 },
 "nbformat": 4,
 "nbformat_minor": 2
}
