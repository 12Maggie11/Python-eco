{
 "cells": [
  {
   "cell_type": "code",
   "execution_count": 8,
   "metadata": {},
   "outputs": [
    {
     "data": {
      "text/plain": [
       "(array([[4.41176471],\n",
       "        [1.17647059]]),\n",
       " array([[50.        ],\n",
       "        [33.82352941]]))"
      ]
     },
     "execution_count": 8,
     "metadata": {},
     "output_type": "execute_result"
    }
   ],
   "source": [
    "# 有shock發生時\n",
    "import numpy as np\n",
    "from numpy.linalg import inv\n",
    "class Demand:\n",
    "    def __init__(self, D, h):\n",
    "        self.D=D\n",
    "        self.h=h\n",
    "    def quantity(self, pd):\n",
    "        qd=np.array((self.D@pd)+self.h)\n",
    "        return qd\n",
    "class Supply:\n",
    "    def __init__(self, C, e):\n",
    "        self.C=C\n",
    "        self.e=e\n",
    "    def quantity(self, ps):\n",
    "        qs=np.array((self.C@ps)+self.e)\n",
    "        return qs \n",
    "class Market:\n",
    "    def __init__(self, demand, supply):\n",
    "        self.demand=demand\n",
    "        self.supply=supply\n",
    "    def price(self):\n",
    "        pe=inv(self.supply.C-self.demand.D)@(self.demand.h-self.supply.e)\n",
    "        return pe\n",
    "    def quantity(self):\n",
    "        qe=self.demand.D@self.price()+self.demand.h\n",
    "        return qe\n",
    "    def equlibrium(self):\n",
    "        pe=self.price()\n",
    "        qe=self.quantity()\n",
    "        return pe, qe\n",
    "\n",
    "D=np.array([\n",
    "    [-10,-5],\n",
    "    [-1,-10]\n",
    "])\n",
    "h=np.array([\n",
    "    [100],\n",
    "    [50]\n",
    "])\n",
    "C=np.array([\n",
    "    [10,5],\n",
    "    [5,10]\n",
    "])\n",
    "e=np.array([\n",
    "    [0],\n",
    "    [0]\n",
    "])\n",
    "\n",
    "demand = Demand(D, h)\n",
    "supply = Supply(C, e)\n",
    "market = Market(demand, supply)\n",
    "\n",
    "market.equlibrium()"
   ]
  },
  {
   "cell_type": "code",
   "execution_count": 11,
   "metadata": {},
   "outputs": [
    {
     "data": {
      "text/plain": [
       "(array([[4.41176471],\n",
       "        [1.17647059]]),\n",
       " array([[50.        ],\n",
       "        [33.82352941]]))"
      ]
     },
     "execution_count": 11,
     "metadata": {},
     "output_type": "execute_result"
    }
   ],
   "source": [
    "# 有shock發生時\n",
    "import numpy as np\n",
    "from numpy.linalg import inv\n",
    "class Demand:\n",
    "    def __init__(self, D, h):\n",
    "        self.D=D\n",
    "        self.h=h\n",
    "    def quantity(self, pd):\n",
    "        qd=np.array((self.D@pd)+self.h)\n",
    "        return qd\n",
    "class Supply:\n",
    "    def __init__(self, C, e):\n",
    "        self.C=C\n",
    "        self.e=e\n",
    "    def quantity(self, ps):\n",
    "        qs=np.array((self.C@ps)+self.e)\n",
    "        return qs \n",
    "class Market:\n",
    "    def __init__(self, demand, supply):\n",
    "        self.demand=demand\n",
    "        self.supply=supply\n",
    "    def price(self):\n",
    "        D=self.demand.D\n",
    "        h=self.demand.h\n",
    "        C=self.supply.C\n",
    "        e=self.supply.e\n",
    "        pe=inv(C-D)@(h-e)\n",
    "        return pe\n",
    "    def quantity(self):\n",
    "        D=self.demand.D\n",
    "        qe=D@self.price()+self.demand.h\n",
    "        return qe\n",
    "    def equilibrium(self):\n",
    "        pe=self.price()\n",
    "        qe=self.quantity()\n",
    "        return pe, qe\n",
    "\n",
    "D=np.array([\n",
    "    [-10,-5],\n",
    "    [-1,-10]\n",
    "])\n",
    "h=np.array([\n",
    "    [100],\n",
    "    [50]\n",
    "])\n",
    "C=np.array([\n",
    "    [10,5],\n",
    "    [5,10]\n",
    "])\n",
    "e=np.array([\n",
    "    [0],\n",
    "    [0]\n",
    "])\n",
    "\n",
    "demand = Demand(D, h)\n",
    "supply = Supply(C, e)\n",
    "market = Market(demand, supply)\n",
    "\n",
    "market.equilibrium()"
   ]
  },
  {
   "cell_type": "code",
   "execution_count": 12,
   "metadata": {},
   "outputs": [
    {
     "data": {
      "text/plain": [
       "(array([[3.23529412],\n",
       "        [1.52941176]]),\n",
       " array([[40.        ],\n",
       "        [31.47058824]]))"
      ]
     },
     "execution_count": 12,
     "metadata": {},
     "output_type": "execute_result"
    }
   ],
   "source": [
    "# 改變參數\n",
    "demand.h = np.array([[80],[50]])\n",
    "market.equilibrium()"
   ]
  },
  {
   "cell_type": "code",
   "execution_count": 18,
   "metadata": {},
   "outputs": [],
   "source": [
    "# Overlapping generation model\n",
    "# Consumer: Log Utility\n",
    "class Consumer:\n",
    "    def __init__(self, beta):\n",
    "        self.beta=beta\n",
    "    def foc_c(self, knext, w):\n",
    "        \"\"\"\n",
    "        s=knext\n",
    "        \"\"\"\n",
    "        return knext-(self.beta/(1+self.beta))*w\n",
    "# Producer: Cobb-Douglas\n",
    "class Producer:\n",
    "    def __init__(self, alpha):\n",
    "        self.alpha=alpha\n",
    "    def foc_l(self, k, w, l=1):\n",
    "        return (1-self.alpha)*(k/l)**(self.alpha)-w\n",
    "    def foc_k(self, k, R, l=1):\n",
    "        return self.alpha*(l/k)**(1-self.alpha)-R\n",
    "# Dynamic equilibrium\n",
    "\"\"\"\n",
    "satisfies all FOCs\n",
    "satisfies all constraints\n",
    "Assume l=1 for all t, and k0 is given.\n",
    "\"\"\"\n",
    "class OLGMarket:\n",
    "    def __init__(self, consumer, producer, k0):\n",
    "        self.consumer = consumer\n",
    "        self.producer = producer\n",
    "        self.k0 = k0\n",
    "        self.k = k0\n",
    "        self.equilibrium_dynamics = [[k0, None, None]]\n",
    "    def generate_onePeriod_equilibrium(self):\n",
    "        \"\"\"\n",
    "        return a tuple of (knext, w, R)\n",
    "        and track the dynamics in self.equilibrium_dynamics\n",
    "        \"\"\" \n",
    "        alpha=self.producer.alpha\n",
    "        beta=self.consumer.beta\n",
    "\n",
    "        w=(1-alpha)*self.k**alpha\n",
    "        R=alpha*self.k**(alpha-1)\n",
    "        knext=(beta/(1+beta))*w\n",
    "\n",
    "        # keep track of the dynamics\n",
    "        self.equilibrium_dynamics[len(self.equilibrium_dynamics)-1][1] = w\n",
    "        self.equilibrium_dynamics[len(self.equilibrium_dynamics)-1][2] = R\n",
    "        self.equilibrium_dynamics.append([knext, None, None])\n",
    "\n",
    "        # set the market time to the next period\n",
    "        self.k = knext\n",
    "        return (knext, w, R)\n",
    "    \n",
    "    def clear_equilibrium_dynamics(self):\n",
    "        self.equilibrium_dynamics = [[self.k0, None, None]]\n",
    "        self.k = self.k0\n",
    "\n",
    "consumer = Consumer(0.9)\n",
    "producer = Producer(0.3)\n",
    "market = OLGMarket(consumer, producer, 1)"
   ]
  },
  {
   "cell_type": "code",
   "execution_count": 19,
   "metadata": {},
   "outputs": [
    {
     "data": {
      "text/plain": [
       "(1, [[1, None, None]])"
      ]
     },
     "execution_count": 19,
     "metadata": {},
     "output_type": "execute_result"
    }
   ],
   "source": [
    "# initial state\n",
    "market.k0, market.equilibrium_dynamics"
   ]
  },
  {
   "cell_type": "code",
   "execution_count": 27,
   "metadata": {},
   "outputs": [
    {
     "data": {
      "text/plain": [
       "(1,\n",
       " [[1, 0.7, 0.3],\n",
       "  [0.33157894736842103, 0.5026597658109342, 0.6496962959461055],\n",
       "  [0.23810199433149515, 0.4551210785224081, 0.8191946957141344],\n",
       "  [0.21558366877377225, 0.4417563465167363, 0.8781933695814612],\n",
       "  [0.20925300624476983, 0.4378239873111994, 0.8967080333618369],\n",
       "  [0.2073903097789892, 0.4366511196537161, 0.9023381774043994],\n",
       "  [0.20683474088860238, 0.436299872418994, 0.9040341037719941],\n",
       "  [0.20666836061952348, 0.436194553355657, 0.9045435029644798],\n",
       "  [0.20661847264215333, None, None]])"
      ]
     },
     "execution_count": 27,
     "metadata": {},
     "output_type": "execute_result"
    }
   ],
   "source": [
    "# dynamic equilibrium\n",
    "market.generate_onePeriod_equilibrium()\n",
    "market.k0, market.equilibrium_dynamics"
   ]
  },
  {
   "cell_type": "code",
   "execution_count": 28,
   "metadata": {},
   "outputs": [
    {
     "data": {
      "text/plain": [
       "[[1, 0.7, 0.3],\n",
       " [0.33157894736842103, 0.5026597658109342, 0.6496962959461055],\n",
       " [0.23810199433149515, 0.4551210785224081, 0.8191946957141344],\n",
       " [0.21558366877377225, 0.4417563465167363, 0.8781933695814612],\n",
       " [0.20925300624476983, 0.4378239873111994, 0.8967080333618369],\n",
       " [0.2073903097789892, 0.4366511196537161, 0.9023381774043994],\n",
       " [0.20683474088860238, 0.436299872418994, 0.9040341037719941],\n",
       " [0.20666836061952348, 0.436194553355657, 0.9045435029644798],\n",
       " [0.20661847264215333, 0.43616296259444404, 0.9046963786862854],\n",
       " [0.20660350859736823, 0.4361534858122312, 0.9047422464409072],\n",
       " [0.2065990195952674, 0.43615064281771954, 0.9047560072207563],\n",
       " [0.20659767291365663, 0.43614978992297976, 0.9047601354955237],\n",
       " [0.20659726891088517, 0.436149534054883, 0.9047613739816269],\n",
       " [0.20659714771020773, 0.4361494572944833, 0.9047617455277887],\n",
       " [0.2065971113500184, 0.436149434266366, 0.9047618569916669],\n",
       " [0.20659710044196286, 0.436149427357931, 0.904761890430833],\n",
       " [0.20659709716954627, 0.4361494252854005, 0.9047619004625831],\n",
       " [0.20659709618782132, 0.4361494246636414, 0.9047619034721082],\n",
       " [0.20659709589330386, 0.4361494244771137, 0.9047619043749657],\n",
       " [0.20659709580494862, 0.43614942442115534, 0.9047619046458228],\n",
       " [0.206597095778442, 0.4361494244043678, 0.9047619047270802],\n",
       " [0.20659709577049004, 0.43614942439933163, 0.9047619047514573],\n",
       " [0.20659709576810448, 0.4361494243978208, 0.9047619047587704],\n",
       " [0.2065970957673888, 0.4361494243973675, 0.9047619047609643],\n",
       " [0.20659709576717408, 0.43614942439723153, 0.9047619047616225],\n",
       " [0.2065970957671097, 0.43614942439719073, 0.90476190476182],\n",
       " [0.20659709576709037, 0.43614942439717846, 0.9047619047618791],\n",
       " [0.20659709576708454, 0.4361494243971748, 0.904761904761897],\n",
       " [0.20659709576708282, 0.4361494243971737, 0.9047619047619023],\n",
       " [0.2065970957670823, 0.4361494243971734, 0.9047619047619039],\n",
       " [0.20659709576708216, 0.43614942439717325, 0.9047619047619043],\n",
       " [0.20659709576708207, 0.43614942439717325, 0.9047619047619045],\n",
       " [0.20659709576708207, 0.43614942439717325, 0.9047619047619045],\n",
       " [0.20659709576708207, 0.43614942439717325, 0.9047619047619045],\n",
       " [0.20659709576708207, 0.43614942439717325, 0.9047619047619045],\n",
       " [0.20659709576708207, 0.43614942439717325, 0.9047619047619045],\n",
       " [0.20659709576708207, 0.43614942439717325, 0.9047619047619045],\n",
       " [0.20659709576708207, 0.43614942439717325, 0.9047619047619045],\n",
       " [0.20659709576708207, None, None]]"
      ]
     },
     "execution_count": 28,
     "metadata": {},
     "output_type": "execute_result"
    }
   ],
   "source": [
    "# simulate the dynamics\n",
    "for t in range(30):\n",
    "    _ = market.generate_onePeriod_equilibrium()\n",
    "\n",
    "market.equilibrium_dynamics"
   ]
  },
  {
   "cell_type": "code",
   "execution_count": null,
   "metadata": {},
   "outputs": [],
   "source": [
    "# Overlapping generation model\n",
    "# Consumer: CRRA preferences\n",
    "class Consumer:\n",
    "    def __init__(self, beta):\n",
    "        self.beta=beta\n",
    "    def foc_c(self, knext, w):\n",
    "        \"\"\"\n",
    "        s=knext\n",
    "        \"\"\"\n",
    "        return knext-(self.beta/(1+self.beta))*w\n",
    "# Producer: Cobb-Douglas\n",
    "class Producer:\n",
    "    def __init__(self, alpha):\n",
    "        self.alpha=alpha\n",
    "    def foc_l(self, k, w, l=1):\n",
    "        return (1-self.alpha)*(k/l)**(self.alpha)-w\n",
    "    def foc_k(self, k, R, l=1):\n",
    "        return self.alpha*(l/k)**(1-self.alpha)-R"
   ]
  }
 ],
 "metadata": {
  "kernelspec": {
   "display_name": ".venv",
   "language": "python",
   "name": "python3"
  },
  "language_info": {
   "codemirror_mode": {
    "name": "ipython",
    "version": 3
   },
   "file_extension": ".py",
   "mimetype": "text/x-python",
   "name": "python",
   "nbconvert_exporter": "python",
   "pygments_lexer": "ipython3",
   "version": "3.11.5"
  }
 },
 "nbformat": 4,
 "nbformat_minor": 2
}
